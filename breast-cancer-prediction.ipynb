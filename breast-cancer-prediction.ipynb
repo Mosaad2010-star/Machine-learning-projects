{
 "cells": [
  {
   "cell_type": "markdown",
   "id": "1886dfcc",
   "metadata": {
    "papermill": {
     "duration": 0.008969,
     "end_time": "2025-04-02T08:30:23.066430",
     "exception": false,
     "start_time": "2025-04-02T08:30:23.057461",
     "status": "completed"
    },
    "tags": []
   },
   "source": [
    "###  - Breast Cancer Dataset   \n",
    "\n",
    "#### **Dataset Overview**  \n",
    "This dataset contains information on **4024 female breast cancer patients** diagnosed between **2006 and 2010**. The data was sourced from the **SEER Program (National Cancer Institute)** in its **November 2017 update**. It provides details on tumor characteristics, lymph node involvement, hormone receptor status, and patient survival.  \n",
    "\n",
    "#### **Data Features**  \n",
    "The dataset includes **16 columns** with both categorical and numerical data:  \n",
    "\n",
    "| Column | Description |\n",
    "|--------|------------|\n",
    "| **Age** | Age of the patient at diagnosis |\n",
    "| **Race** | Patient's race (e.g., White, Black, Asian) |\n",
    "| **Marital Status** | Marital status of the patient |\n",
    "| **T Stage** | Tumor stage based on size and extent of spread |\n",
    "| **N Stage** | Lymph node involvement stage |\n",
    "| **6th Stage** | Cancer staging classification |\n",
    "| **Differentiate** | Tumor differentiation level (e.g., Well, Moderately, Poorly differentiated) |\n",
    "| **Grade** | Tumor grade (severity of cancer cells) |\n",
    "| **A Stage** | Another classification of cancer stage |\n",
    "| **Tumor Size** | Size of the tumor (in mm) |\n",
    "| **Estrogen Status** | Whether the tumor is estrogen receptor-positive or negative |\n",
    "| **Progesterone Status** | Whether the tumor is progesterone receptor-positive or negative |\n",
    "| **Regional Node Examined** | Number of lymph nodes examined |\n",
    "| **Regional Node Positive** | Number of affected lymph nodes |\n",
    "| **Survival Months** | Number of months the patient survived after diagnosis |\n",
    "| **Status** | Whether the patient is Alive or Deceased |\n",
    "\n",
    "#### **Data Summary**  \n",
    "- **No missing values** in the dataset.  \n",
    "- **Age range** varies across patients.  \n",
    "- **Tumor size and survival months** show variations among patients.  \n",
    "- **Hormone receptor status (Estrogen/Progesterone)** can be a factor in cancer progression.  \n",
    "\n",
    "#### **Potential Analyses**  \n",
    "- **Survival Analysis:** Relationship between tumor size, lymph node involvement, and patient survival.  \n",
    "- **Demographic Trends:** Examining survival rates based on age, race, and marital status.  \n",
    "- **Tumor Characteristics:** Distribution of tumor grades, hormone receptor status, and staging.  \n",
    "\n",
    "#### **Usage**  \n",
    "This dataset is useful for **medical research, machine learning models, and statistical analysis** related to breast cancer prognosis and treatment outcomes.  \n"
   ]
  },
  {
   "cell_type": "markdown",
   "id": "fe98e088",
   "metadata": {
    "papermill": {
     "duration": 0.007772,
     "end_time": "2025-04-02T08:30:23.082194",
     "exception": false,
     "start_time": "2025-04-02T08:30:23.074422",
     "status": "completed"
    },
    "tags": []
   },
   "source": [
    "# 1]  Import Libraries"
   ]
  },
  {
   "cell_type": "code",
   "execution_count": 1,
   "id": "396b5d77",
   "metadata": {
    "execution": {
     "iopub.execute_input": "2025-04-02T08:30:23.102359Z",
     "iopub.status.busy": "2025-04-02T08:30:23.101836Z",
     "iopub.status.idle": "2025-04-02T08:30:27.930359Z",
     "shell.execute_reply": "2025-04-02T08:30:27.929228Z"
    },
    "papermill": {
     "duration": 4.840409,
     "end_time": "2025-04-02T08:30:27.932930",
     "exception": false,
     "start_time": "2025-04-02T08:30:23.092521",
     "status": "completed"
    },
    "tags": []
   },
   "outputs": [],
   "source": [
    "import numpy as np\n",
    "import pandas as pd \n",
    "import seaborn as sns \n",
    "import matplotlib.pyplot as plt\n",
    "%matplotlib inline\n",
    "\n",
    "from sklearn.model_selection import train_test_split\n",
    "from sklearn.metrics import classification_report\n",
    "from sklearn.preprocessing import LabelEncoder\n",
    "from imblearn.over_sampling import RandomOverSampler\n",
    "\n",
    "from sklearn.linear_model import LogisticRegression\n",
    "from sklearn.ensemble import RandomForestClassifier\n",
    "from sklearn.ensemble import GradientBoostingClassifier\n",
    "from sklearn.svm import SVC\n",
    "from xgboost import XGBClassifier\n",
    "from sklearn.neighbors import KNeighborsClassifier\n",
    "\n",
    "import warnings\n",
    "warnings.filterwarnings('ignore')"
   ]
  },
  {
   "cell_type": "markdown",
   "id": "d961e205",
   "metadata": {
    "papermill": {
     "duration": 0.007678,
     "end_time": "2025-04-02T08:30:27.948488",
     "exception": false,
     "start_time": "2025-04-02T08:30:27.940810",
     "status": "completed"
    },
    "tags": []
   },
   "source": [
    "# 2] Explore Data"
   ]
  },
  {
   "cell_type": "code",
   "execution_count": 2,
   "id": "b4c1df65",
   "metadata": {
    "execution": {
     "iopub.execute_input": "2025-04-02T08:30:27.966529Z",
     "iopub.status.busy": "2025-04-02T08:30:27.966000Z",
     "iopub.status.idle": "2025-04-02T08:30:28.011151Z",
     "shell.execute_reply": "2025-04-02T08:30:28.009931Z"
    },
    "papermill": {
     "duration": 0.056684,
     "end_time": "2025-04-02T08:30:28.013704",
     "exception": false,
     "start_time": "2025-04-02T08:30:27.957020",
     "status": "completed"
    },
    "tags": []
   },
   "outputs": [],
   "source": [
    "cancer=pd.read_csv('/kaggle/input/breast-cancer/Breast_Cancer.csv')"
   ]
  },
  {
   "cell_type": "code",
   "execution_count": 3,
   "id": "1553431d",
   "metadata": {
    "execution": {
     "iopub.execute_input": "2025-04-02T08:30:28.031988Z",
     "iopub.status.busy": "2025-04-02T08:30:28.031567Z",
     "iopub.status.idle": "2025-04-02T08:30:28.059820Z",
     "shell.execute_reply": "2025-04-02T08:30:28.058705Z"
    },
    "papermill": {
     "duration": 0.040092,
     "end_time": "2025-04-02T08:30:28.062040",
     "exception": false,
     "start_time": "2025-04-02T08:30:28.021948",
     "status": "completed"
    },
    "tags": []
   },
   "outputs": [
    {
     "data": {
      "text/html": [
       "<div>\n",
       "<style scoped>\n",
       "    .dataframe tbody tr th:only-of-type {\n",
       "        vertical-align: middle;\n",
       "    }\n",
       "\n",
       "    .dataframe tbody tr th {\n",
       "        vertical-align: top;\n",
       "    }\n",
       "\n",
       "    .dataframe thead th {\n",
       "        text-align: right;\n",
       "    }\n",
       "</style>\n",
       "<table border=\"1\" class=\"dataframe\">\n",
       "  <thead>\n",
       "    <tr style=\"text-align: right;\">\n",
       "      <th></th>\n",
       "      <th>Age</th>\n",
       "      <th>Race</th>\n",
       "      <th>Marital Status</th>\n",
       "      <th>T Stage</th>\n",
       "      <th>N Stage</th>\n",
       "      <th>6th Stage</th>\n",
       "      <th>differentiate</th>\n",
       "      <th>Grade</th>\n",
       "      <th>A Stage</th>\n",
       "      <th>Tumor Size</th>\n",
       "      <th>Estrogen Status</th>\n",
       "      <th>Progesterone Status</th>\n",
       "      <th>Regional Node Examined</th>\n",
       "      <th>Reginol Node Positive</th>\n",
       "      <th>Survival Months</th>\n",
       "      <th>Status</th>\n",
       "    </tr>\n",
       "  </thead>\n",
       "  <tbody>\n",
       "    <tr>\n",
       "      <th>0</th>\n",
       "      <td>68</td>\n",
       "      <td>White</td>\n",
       "      <td>Married</td>\n",
       "      <td>T1</td>\n",
       "      <td>N1</td>\n",
       "      <td>IIA</td>\n",
       "      <td>Poorly differentiated</td>\n",
       "      <td>3</td>\n",
       "      <td>Regional</td>\n",
       "      <td>4</td>\n",
       "      <td>Positive</td>\n",
       "      <td>Positive</td>\n",
       "      <td>24</td>\n",
       "      <td>1</td>\n",
       "      <td>60</td>\n",
       "      <td>Alive</td>\n",
       "    </tr>\n",
       "    <tr>\n",
       "      <th>1</th>\n",
       "      <td>50</td>\n",
       "      <td>White</td>\n",
       "      <td>Married</td>\n",
       "      <td>T2</td>\n",
       "      <td>N2</td>\n",
       "      <td>IIIA</td>\n",
       "      <td>Moderately differentiated</td>\n",
       "      <td>2</td>\n",
       "      <td>Regional</td>\n",
       "      <td>35</td>\n",
       "      <td>Positive</td>\n",
       "      <td>Positive</td>\n",
       "      <td>14</td>\n",
       "      <td>5</td>\n",
       "      <td>62</td>\n",
       "      <td>Alive</td>\n",
       "    </tr>\n",
       "    <tr>\n",
       "      <th>2</th>\n",
       "      <td>58</td>\n",
       "      <td>White</td>\n",
       "      <td>Divorced</td>\n",
       "      <td>T3</td>\n",
       "      <td>N3</td>\n",
       "      <td>IIIC</td>\n",
       "      <td>Moderately differentiated</td>\n",
       "      <td>2</td>\n",
       "      <td>Regional</td>\n",
       "      <td>63</td>\n",
       "      <td>Positive</td>\n",
       "      <td>Positive</td>\n",
       "      <td>14</td>\n",
       "      <td>7</td>\n",
       "      <td>75</td>\n",
       "      <td>Alive</td>\n",
       "    </tr>\n",
       "  </tbody>\n",
       "</table>\n",
       "</div>"
      ],
      "text/plain": [
       "   Age   Race Marital Status T Stage  N Stage 6th Stage  \\\n",
       "0   68  White        Married       T1      N1       IIA   \n",
       "1   50  White        Married       T2      N2      IIIA   \n",
       "2   58  White       Divorced       T3      N3      IIIC   \n",
       "\n",
       "               differentiate Grade   A Stage  Tumor Size Estrogen Status  \\\n",
       "0      Poorly differentiated     3  Regional           4        Positive   \n",
       "1  Moderately differentiated     2  Regional          35        Positive   \n",
       "2  Moderately differentiated     2  Regional          63        Positive   \n",
       "\n",
       "  Progesterone Status  Regional Node Examined  Reginol Node Positive  \\\n",
       "0            Positive                      24                      1   \n",
       "1            Positive                      14                      5   \n",
       "2            Positive                      14                      7   \n",
       "\n",
       "   Survival Months Status  \n",
       "0               60  Alive  \n",
       "1               62  Alive  \n",
       "2               75  Alive  "
      ]
     },
     "execution_count": 3,
     "metadata": {},
     "output_type": "execute_result"
    }
   ],
   "source": [
    "cancer.head(3)"
   ]
  },
  {
   "cell_type": "code",
   "execution_count": 4,
   "id": "475872fd",
   "metadata": {
    "execution": {
     "iopub.execute_input": "2025-04-02T08:30:28.081258Z",
     "iopub.status.busy": "2025-04-02T08:30:28.080869Z",
     "iopub.status.idle": "2025-04-02T08:30:28.087989Z",
     "shell.execute_reply": "2025-04-02T08:30:28.086973Z"
    },
    "papermill": {
     "duration": 0.019294,
     "end_time": "2025-04-02T08:30:28.090244",
     "exception": false,
     "start_time": "2025-04-02T08:30:28.070950",
     "status": "completed"
    },
    "tags": []
   },
   "outputs": [
    {
     "data": {
      "text/plain": [
       "(4024, 16)"
      ]
     },
     "execution_count": 4,
     "metadata": {},
     "output_type": "execute_result"
    }
   ],
   "source": [
    "cancer.shape"
   ]
  },
  {
   "cell_type": "code",
   "execution_count": 5,
   "id": "414e33d9",
   "metadata": {
    "execution": {
     "iopub.execute_input": "2025-04-02T08:30:28.109053Z",
     "iopub.status.busy": "2025-04-02T08:30:28.108651Z",
     "iopub.status.idle": "2025-04-02T08:30:28.125303Z",
     "shell.execute_reply": "2025-04-02T08:30:28.124254Z"
    },
    "papermill": {
     "duration": 0.02901,
     "end_time": "2025-04-02T08:30:28.127428",
     "exception": false,
     "start_time": "2025-04-02T08:30:28.098418",
     "status": "completed"
    },
    "tags": []
   },
   "outputs": [
    {
     "data": {
      "text/html": [
       "<div>\n",
       "<style scoped>\n",
       "    .dataframe tbody tr th:only-of-type {\n",
       "        vertical-align: middle;\n",
       "    }\n",
       "\n",
       "    .dataframe tbody tr th {\n",
       "        vertical-align: top;\n",
       "    }\n",
       "\n",
       "    .dataframe thead th {\n",
       "        text-align: right;\n",
       "    }\n",
       "</style>\n",
       "<table border=\"1\" class=\"dataframe\">\n",
       "  <thead>\n",
       "    <tr style=\"text-align: right;\">\n",
       "      <th></th>\n",
       "      <th>Age</th>\n",
       "      <th>Race</th>\n",
       "      <th>Marital Status</th>\n",
       "      <th>T Stage</th>\n",
       "      <th>N Stage</th>\n",
       "      <th>6th Stage</th>\n",
       "      <th>differentiate</th>\n",
       "      <th>Grade</th>\n",
       "      <th>A Stage</th>\n",
       "      <th>Tumor Size</th>\n",
       "      <th>Estrogen Status</th>\n",
       "      <th>Progesterone Status</th>\n",
       "      <th>Regional Node Examined</th>\n",
       "      <th>Reginol Node Positive</th>\n",
       "      <th>Survival Months</th>\n",
       "      <th>Status</th>\n",
       "    </tr>\n",
       "  </thead>\n",
       "  <tbody>\n",
       "    <tr>\n",
       "      <th>4019</th>\n",
       "      <td>62</td>\n",
       "      <td>Other</td>\n",
       "      <td>Married</td>\n",
       "      <td>T1</td>\n",
       "      <td>N1</td>\n",
       "      <td>IIA</td>\n",
       "      <td>Moderately differentiated</td>\n",
       "      <td>2</td>\n",
       "      <td>Regional</td>\n",
       "      <td>9</td>\n",
       "      <td>Positive</td>\n",
       "      <td>Positive</td>\n",
       "      <td>1</td>\n",
       "      <td>1</td>\n",
       "      <td>49</td>\n",
       "      <td>Alive</td>\n",
       "    </tr>\n",
       "    <tr>\n",
       "      <th>4020</th>\n",
       "      <td>56</td>\n",
       "      <td>White</td>\n",
       "      <td>Divorced</td>\n",
       "      <td>T2</td>\n",
       "      <td>N2</td>\n",
       "      <td>IIIA</td>\n",
       "      <td>Moderately differentiated</td>\n",
       "      <td>2</td>\n",
       "      <td>Regional</td>\n",
       "      <td>46</td>\n",
       "      <td>Positive</td>\n",
       "      <td>Positive</td>\n",
       "      <td>14</td>\n",
       "      <td>8</td>\n",
       "      <td>69</td>\n",
       "      <td>Alive</td>\n",
       "    </tr>\n",
       "    <tr>\n",
       "      <th>4021</th>\n",
       "      <td>68</td>\n",
       "      <td>White</td>\n",
       "      <td>Married</td>\n",
       "      <td>T2</td>\n",
       "      <td>N1</td>\n",
       "      <td>IIB</td>\n",
       "      <td>Moderately differentiated</td>\n",
       "      <td>2</td>\n",
       "      <td>Regional</td>\n",
       "      <td>22</td>\n",
       "      <td>Positive</td>\n",
       "      <td>Negative</td>\n",
       "      <td>11</td>\n",
       "      <td>3</td>\n",
       "      <td>69</td>\n",
       "      <td>Alive</td>\n",
       "    </tr>\n",
       "    <tr>\n",
       "      <th>4022</th>\n",
       "      <td>58</td>\n",
       "      <td>Black</td>\n",
       "      <td>Divorced</td>\n",
       "      <td>T2</td>\n",
       "      <td>N1</td>\n",
       "      <td>IIB</td>\n",
       "      <td>Moderately differentiated</td>\n",
       "      <td>2</td>\n",
       "      <td>Regional</td>\n",
       "      <td>44</td>\n",
       "      <td>Positive</td>\n",
       "      <td>Positive</td>\n",
       "      <td>11</td>\n",
       "      <td>1</td>\n",
       "      <td>72</td>\n",
       "      <td>Alive</td>\n",
       "    </tr>\n",
       "    <tr>\n",
       "      <th>4023</th>\n",
       "      <td>46</td>\n",
       "      <td>White</td>\n",
       "      <td>Married</td>\n",
       "      <td>T2</td>\n",
       "      <td>N1</td>\n",
       "      <td>IIB</td>\n",
       "      <td>Moderately differentiated</td>\n",
       "      <td>2</td>\n",
       "      <td>Regional</td>\n",
       "      <td>30</td>\n",
       "      <td>Positive</td>\n",
       "      <td>Positive</td>\n",
       "      <td>7</td>\n",
       "      <td>2</td>\n",
       "      <td>100</td>\n",
       "      <td>Alive</td>\n",
       "    </tr>\n",
       "  </tbody>\n",
       "</table>\n",
       "</div>"
      ],
      "text/plain": [
       "      Age   Race Marital Status T Stage  N Stage 6th Stage  \\\n",
       "4019   62  Other        Married       T1      N1       IIA   \n",
       "4020   56  White       Divorced       T2      N2      IIIA   \n",
       "4021   68  White        Married       T2      N1       IIB   \n",
       "4022   58  Black       Divorced       T2      N1       IIB   \n",
       "4023   46  White        Married       T2      N1       IIB   \n",
       "\n",
       "                  differentiate Grade   A Stage  Tumor Size Estrogen Status  \\\n",
       "4019  Moderately differentiated     2  Regional           9        Positive   \n",
       "4020  Moderately differentiated     2  Regional          46        Positive   \n",
       "4021  Moderately differentiated     2  Regional          22        Positive   \n",
       "4022  Moderately differentiated     2  Regional          44        Positive   \n",
       "4023  Moderately differentiated     2  Regional          30        Positive   \n",
       "\n",
       "     Progesterone Status  Regional Node Examined  Reginol Node Positive  \\\n",
       "4019            Positive                       1                      1   \n",
       "4020            Positive                      14                      8   \n",
       "4021            Negative                      11                      3   \n",
       "4022            Positive                      11                      1   \n",
       "4023            Positive                       7                      2   \n",
       "\n",
       "      Survival Months Status  \n",
       "4019               49  Alive  \n",
       "4020               69  Alive  \n",
       "4021               69  Alive  \n",
       "4022               72  Alive  \n",
       "4023              100  Alive  "
      ]
     },
     "execution_count": 5,
     "metadata": {},
     "output_type": "execute_result"
    }
   ],
   "source": [
    "cancer.tail()"
   ]
  },
  {
   "cell_type": "code",
   "execution_count": 6,
   "id": "21d35174",
   "metadata": {
    "execution": {
     "iopub.execute_input": "2025-04-02T08:30:28.146833Z",
     "iopub.status.busy": "2025-04-02T08:30:28.146421Z",
     "iopub.status.idle": "2025-04-02T08:30:28.176072Z",
     "shell.execute_reply": "2025-04-02T08:30:28.174787Z"
    },
    "papermill": {
     "duration": 0.041815,
     "end_time": "2025-04-02T08:30:28.178486",
     "exception": false,
     "start_time": "2025-04-02T08:30:28.136671",
     "status": "completed"
    },
    "tags": []
   },
   "outputs": [
    {
     "name": "stdout",
     "output_type": "stream",
     "text": [
      "<class 'pandas.core.frame.DataFrame'>\n",
      "RangeIndex: 4024 entries, 0 to 4023\n",
      "Data columns (total 16 columns):\n",
      " #   Column                  Non-Null Count  Dtype \n",
      "---  ------                  --------------  ----- \n",
      " 0   Age                     4024 non-null   int64 \n",
      " 1   Race                    4024 non-null   object\n",
      " 2   Marital Status          4024 non-null   object\n",
      " 3   T Stage                 4024 non-null   object\n",
      " 4   N Stage                 4024 non-null   object\n",
      " 5   6th Stage               4024 non-null   object\n",
      " 6   differentiate           4024 non-null   object\n",
      " 7   Grade                   4024 non-null   object\n",
      " 8   A Stage                 4024 non-null   object\n",
      " 9   Tumor Size              4024 non-null   int64 \n",
      " 10  Estrogen Status         4024 non-null   object\n",
      " 11  Progesterone Status     4024 non-null   object\n",
      " 12  Regional Node Examined  4024 non-null   int64 \n",
      " 13  Reginol Node Positive   4024 non-null   int64 \n",
      " 14  Survival Months         4024 non-null   int64 \n",
      " 15  Status                  4024 non-null   object\n",
      "dtypes: int64(5), object(11)\n",
      "memory usage: 503.1+ KB\n"
     ]
    }
   ],
   "source": [
    "cancer.info()"
   ]
  },
  {
   "cell_type": "code",
   "execution_count": 7,
   "id": "af6b25d7",
   "metadata": {
    "execution": {
     "iopub.execute_input": "2025-04-02T08:30:28.196877Z",
     "iopub.status.busy": "2025-04-02T08:30:28.196481Z",
     "iopub.status.idle": "2025-04-02T08:30:28.230708Z",
     "shell.execute_reply": "2025-04-02T08:30:28.229537Z"
    },
    "papermill": {
     "duration": 0.045959,
     "end_time": "2025-04-02T08:30:28.233050",
     "exception": false,
     "start_time": "2025-04-02T08:30:28.187091",
     "status": "completed"
    },
    "tags": []
   },
   "outputs": [
    {
     "data": {
      "text/html": [
       "<div>\n",
       "<style scoped>\n",
       "    .dataframe tbody tr th:only-of-type {\n",
       "        vertical-align: middle;\n",
       "    }\n",
       "\n",
       "    .dataframe tbody tr th {\n",
       "        vertical-align: top;\n",
       "    }\n",
       "\n",
       "    .dataframe thead th {\n",
       "        text-align: right;\n",
       "    }\n",
       "</style>\n",
       "<table border=\"1\" class=\"dataframe\">\n",
       "  <thead>\n",
       "    <tr style=\"text-align: right;\">\n",
       "      <th></th>\n",
       "      <th>count</th>\n",
       "      <th>mean</th>\n",
       "      <th>std</th>\n",
       "      <th>min</th>\n",
       "      <th>25%</th>\n",
       "      <th>50%</th>\n",
       "      <th>75%</th>\n",
       "      <th>max</th>\n",
       "    </tr>\n",
       "  </thead>\n",
       "  <tbody>\n",
       "    <tr>\n",
       "      <th>Age</th>\n",
       "      <td>4024.0</td>\n",
       "      <td>53.972167</td>\n",
       "      <td>8.963134</td>\n",
       "      <td>30.0</td>\n",
       "      <td>47.0</td>\n",
       "      <td>54.0</td>\n",
       "      <td>61.0</td>\n",
       "      <td>69.0</td>\n",
       "    </tr>\n",
       "    <tr>\n",
       "      <th>Tumor Size</th>\n",
       "      <td>4024.0</td>\n",
       "      <td>30.473658</td>\n",
       "      <td>21.119696</td>\n",
       "      <td>1.0</td>\n",
       "      <td>16.0</td>\n",
       "      <td>25.0</td>\n",
       "      <td>38.0</td>\n",
       "      <td>140.0</td>\n",
       "    </tr>\n",
       "    <tr>\n",
       "      <th>Regional Node Examined</th>\n",
       "      <td>4024.0</td>\n",
       "      <td>14.357107</td>\n",
       "      <td>8.099675</td>\n",
       "      <td>1.0</td>\n",
       "      <td>9.0</td>\n",
       "      <td>14.0</td>\n",
       "      <td>19.0</td>\n",
       "      <td>61.0</td>\n",
       "    </tr>\n",
       "    <tr>\n",
       "      <th>Reginol Node Positive</th>\n",
       "      <td>4024.0</td>\n",
       "      <td>4.158052</td>\n",
       "      <td>5.109331</td>\n",
       "      <td>1.0</td>\n",
       "      <td>1.0</td>\n",
       "      <td>2.0</td>\n",
       "      <td>5.0</td>\n",
       "      <td>46.0</td>\n",
       "    </tr>\n",
       "    <tr>\n",
       "      <th>Survival Months</th>\n",
       "      <td>4024.0</td>\n",
       "      <td>71.297962</td>\n",
       "      <td>22.921430</td>\n",
       "      <td>1.0</td>\n",
       "      <td>56.0</td>\n",
       "      <td>73.0</td>\n",
       "      <td>90.0</td>\n",
       "      <td>107.0</td>\n",
       "    </tr>\n",
       "  </tbody>\n",
       "</table>\n",
       "</div>"
      ],
      "text/plain": [
       "                         count       mean        std   min   25%   50%   75%  \\\n",
       "Age                     4024.0  53.972167   8.963134  30.0  47.0  54.0  61.0   \n",
       "Tumor Size              4024.0  30.473658  21.119696   1.0  16.0  25.0  38.0   \n",
       "Regional Node Examined  4024.0  14.357107   8.099675   1.0   9.0  14.0  19.0   \n",
       "Reginol Node Positive   4024.0   4.158052   5.109331   1.0   1.0   2.0   5.0   \n",
       "Survival Months         4024.0  71.297962  22.921430   1.0  56.0  73.0  90.0   \n",
       "\n",
       "                          max  \n",
       "Age                      69.0  \n",
       "Tumor Size              140.0  \n",
       "Regional Node Examined   61.0  \n",
       "Reginol Node Positive    46.0  \n",
       "Survival Months         107.0  "
      ]
     },
     "execution_count": 7,
     "metadata": {},
     "output_type": "execute_result"
    }
   ],
   "source": [
    "cancer.describe().T"
   ]
  },
  {
   "cell_type": "code",
   "execution_count": 8,
   "id": "2751d616",
   "metadata": {
    "execution": {
     "iopub.execute_input": "2025-04-02T08:30:28.253164Z",
     "iopub.status.busy": "2025-04-02T08:30:28.252784Z",
     "iopub.status.idle": "2025-04-02T08:30:28.264442Z",
     "shell.execute_reply": "2025-04-02T08:30:28.263066Z"
    },
    "papermill": {
     "duration": 0.024638,
     "end_time": "2025-04-02T08:30:28.266867",
     "exception": false,
     "start_time": "2025-04-02T08:30:28.242229",
     "status": "completed"
    },
    "tags": []
   },
   "outputs": [
    {
     "data": {
      "text/plain": [
       "Age                       0\n",
       "Race                      0\n",
       "Marital Status            0\n",
       "T Stage                   0\n",
       "N Stage                   0\n",
       "6th Stage                 0\n",
       "differentiate             0\n",
       "Grade                     0\n",
       "A Stage                   0\n",
       "Tumor Size                0\n",
       "Estrogen Status           0\n",
       "Progesterone Status       0\n",
       "Regional Node Examined    0\n",
       "Reginol Node Positive     0\n",
       "Survival Months           0\n",
       "Status                    0\n",
       "dtype: int64"
      ]
     },
     "execution_count": 8,
     "metadata": {},
     "output_type": "execute_result"
    }
   ],
   "source": [
    "cancer.isna().sum()"
   ]
  },
  {
   "cell_type": "code",
   "execution_count": 9,
   "id": "ab0ae8e0",
   "metadata": {
    "execution": {
     "iopub.execute_input": "2025-04-02T08:30:28.286199Z",
     "iopub.status.busy": "2025-04-02T08:30:28.285679Z",
     "iopub.status.idle": "2025-04-02T08:30:28.306486Z",
     "shell.execute_reply": "2025-04-02T08:30:28.305393Z"
    },
    "papermill": {
     "duration": 0.032845,
     "end_time": "2025-04-02T08:30:28.308882",
     "exception": false,
     "start_time": "2025-04-02T08:30:28.276037",
     "status": "completed"
    },
    "tags": []
   },
   "outputs": [
    {
     "data": {
      "text/html": [
       "<div>\n",
       "<style scoped>\n",
       "    .dataframe tbody tr th:only-of-type {\n",
       "        vertical-align: middle;\n",
       "    }\n",
       "\n",
       "    .dataframe tbody tr th {\n",
       "        vertical-align: top;\n",
       "    }\n",
       "\n",
       "    .dataframe thead th {\n",
       "        text-align: right;\n",
       "    }\n",
       "</style>\n",
       "<table border=\"1\" class=\"dataframe\">\n",
       "  <thead>\n",
       "    <tr style=\"text-align: right;\">\n",
       "      <th></th>\n",
       "      <th>Age</th>\n",
       "      <th>Race</th>\n",
       "      <th>Marital Status</th>\n",
       "      <th>T Stage</th>\n",
       "      <th>N Stage</th>\n",
       "      <th>6th Stage</th>\n",
       "      <th>differentiate</th>\n",
       "      <th>Grade</th>\n",
       "      <th>A Stage</th>\n",
       "      <th>Tumor Size</th>\n",
       "      <th>Estrogen Status</th>\n",
       "      <th>Progesterone Status</th>\n",
       "      <th>Regional Node Examined</th>\n",
       "      <th>Reginol Node Positive</th>\n",
       "      <th>Survival Months</th>\n",
       "      <th>Status</th>\n",
       "    </tr>\n",
       "  </thead>\n",
       "  <tbody>\n",
       "    <tr>\n",
       "      <th>1120</th>\n",
       "      <td>52</td>\n",
       "      <td>Other</td>\n",
       "      <td>Married</td>\n",
       "      <td>T1</td>\n",
       "      <td>N3</td>\n",
       "      <td>IIIC</td>\n",
       "      <td>Well differentiated</td>\n",
       "      <td>1</td>\n",
       "      <td>Regional</td>\n",
       "      <td>15</td>\n",
       "      <td>Positive</td>\n",
       "      <td>Positive</td>\n",
       "      <td>30</td>\n",
       "      <td>30</td>\n",
       "      <td>80</td>\n",
       "      <td>Dead</td>\n",
       "    </tr>\n",
       "    <tr>\n",
       "      <th>1277</th>\n",
       "      <td>66</td>\n",
       "      <td>White</td>\n",
       "      <td>Single</td>\n",
       "      <td>T2</td>\n",
       "      <td>N2</td>\n",
       "      <td>IIIA</td>\n",
       "      <td>Poorly differentiated</td>\n",
       "      <td>3</td>\n",
       "      <td>Regional</td>\n",
       "      <td>21</td>\n",
       "      <td>Positive</td>\n",
       "      <td>Positive</td>\n",
       "      <td>8</td>\n",
       "      <td>8</td>\n",
       "      <td>49</td>\n",
       "      <td>Alive</td>\n",
       "    </tr>\n",
       "    <tr>\n",
       "      <th>1666</th>\n",
       "      <td>45</td>\n",
       "      <td>White</td>\n",
       "      <td>Married</td>\n",
       "      <td>T1</td>\n",
       "      <td>N1</td>\n",
       "      <td>IIA</td>\n",
       "      <td>Moderately differentiated</td>\n",
       "      <td>2</td>\n",
       "      <td>Regional</td>\n",
       "      <td>10</td>\n",
       "      <td>Positive</td>\n",
       "      <td>Positive</td>\n",
       "      <td>6</td>\n",
       "      <td>1</td>\n",
       "      <td>63</td>\n",
       "      <td>Alive</td>\n",
       "    </tr>\n",
       "    <tr>\n",
       "      <th>2439</th>\n",
       "      <td>62</td>\n",
       "      <td>White</td>\n",
       "      <td>Married</td>\n",
       "      <td>T1</td>\n",
       "      <td>N1</td>\n",
       "      <td>IIA</td>\n",
       "      <td>Well differentiated</td>\n",
       "      <td>1</td>\n",
       "      <td>Regional</td>\n",
       "      <td>7</td>\n",
       "      <td>Positive</td>\n",
       "      <td>Positive</td>\n",
       "      <td>27</td>\n",
       "      <td>1</td>\n",
       "      <td>54</td>\n",
       "      <td>Alive</td>\n",
       "    </tr>\n",
       "    <tr>\n",
       "      <th>1171</th>\n",
       "      <td>46</td>\n",
       "      <td>Black</td>\n",
       "      <td>Single</td>\n",
       "      <td>T1</td>\n",
       "      <td>N1</td>\n",
       "      <td>IIA</td>\n",
       "      <td>Moderately differentiated</td>\n",
       "      <td>2</td>\n",
       "      <td>Regional</td>\n",
       "      <td>11</td>\n",
       "      <td>Positive</td>\n",
       "      <td>Positive</td>\n",
       "      <td>12</td>\n",
       "      <td>2</td>\n",
       "      <td>48</td>\n",
       "      <td>Alive</td>\n",
       "    </tr>\n",
       "    <tr>\n",
       "      <th>3726</th>\n",
       "      <td>46</td>\n",
       "      <td>White</td>\n",
       "      <td>Divorced</td>\n",
       "      <td>T3</td>\n",
       "      <td>N3</td>\n",
       "      <td>IIIC</td>\n",
       "      <td>Moderately differentiated</td>\n",
       "      <td>2</td>\n",
       "      <td>Regional</td>\n",
       "      <td>65</td>\n",
       "      <td>Positive</td>\n",
       "      <td>Positive</td>\n",
       "      <td>12</td>\n",
       "      <td>10</td>\n",
       "      <td>30</td>\n",
       "      <td>Dead</td>\n",
       "    </tr>\n",
       "    <tr>\n",
       "      <th>2285</th>\n",
       "      <td>58</td>\n",
       "      <td>White</td>\n",
       "      <td>Married</td>\n",
       "      <td>T1</td>\n",
       "      <td>N3</td>\n",
       "      <td>IIIC</td>\n",
       "      <td>Moderately differentiated</td>\n",
       "      <td>2</td>\n",
       "      <td>Regional</td>\n",
       "      <td>20</td>\n",
       "      <td>Positive</td>\n",
       "      <td>Positive</td>\n",
       "      <td>18</td>\n",
       "      <td>17</td>\n",
       "      <td>42</td>\n",
       "      <td>Dead</td>\n",
       "    </tr>\n",
       "  </tbody>\n",
       "</table>\n",
       "</div>"
      ],
      "text/plain": [
       "      Age   Race Marital Status T Stage  N Stage 6th Stage  \\\n",
       "1120   52  Other        Married       T1      N3      IIIC   \n",
       "1277   66  White        Single        T2      N2      IIIA   \n",
       "1666   45  White        Married       T1      N1       IIA   \n",
       "2439   62  White        Married       T1      N1       IIA   \n",
       "1171   46  Black        Single        T1      N1       IIA   \n",
       "3726   46  White       Divorced       T3      N3      IIIC   \n",
       "2285   58  White        Married       T1      N3      IIIC   \n",
       "\n",
       "                  differentiate Grade   A Stage  Tumor Size Estrogen Status  \\\n",
       "1120        Well differentiated     1  Regional          15        Positive   \n",
       "1277      Poorly differentiated     3  Regional          21        Positive   \n",
       "1666  Moderately differentiated     2  Regional          10        Positive   \n",
       "2439        Well differentiated     1  Regional           7        Positive   \n",
       "1171  Moderately differentiated     2  Regional          11        Positive   \n",
       "3726  Moderately differentiated     2  Regional          65        Positive   \n",
       "2285  Moderately differentiated     2  Regional          20        Positive   \n",
       "\n",
       "     Progesterone Status  Regional Node Examined  Reginol Node Positive  \\\n",
       "1120            Positive                      30                     30   \n",
       "1277            Positive                       8                      8   \n",
       "1666            Positive                       6                      1   \n",
       "2439            Positive                      27                      1   \n",
       "1171            Positive                      12                      2   \n",
       "3726            Positive                      12                     10   \n",
       "2285            Positive                      18                     17   \n",
       "\n",
       "      Survival Months Status  \n",
       "1120               80   Dead  \n",
       "1277               49  Alive  \n",
       "1666               63  Alive  \n",
       "2439               54  Alive  \n",
       "1171               48  Alive  \n",
       "3726               30   Dead  \n",
       "2285               42   Dead  "
      ]
     },
     "execution_count": 9,
     "metadata": {},
     "output_type": "execute_result"
    }
   ],
   "source": [
    "cancer.sample(7)"
   ]
  },
  {
   "cell_type": "code",
   "execution_count": 10,
   "id": "15f4da0c",
   "metadata": {
    "execution": {
     "iopub.execute_input": "2025-04-02T08:30:28.328503Z",
     "iopub.status.busy": "2025-04-02T08:30:28.328129Z",
     "iopub.status.idle": "2025-04-02T08:30:28.335446Z",
     "shell.execute_reply": "2025-04-02T08:30:28.334366Z"
    },
    "papermill": {
     "duration": 0.01966,
     "end_time": "2025-04-02T08:30:28.337627",
     "exception": false,
     "start_time": "2025-04-02T08:30:28.317967",
     "status": "completed"
    },
    "tags": []
   },
   "outputs": [
    {
     "data": {
      "text/plain": [
       "Index(['Age', 'Race', 'Marital Status', 'T Stage ', 'N Stage', '6th Stage',\n",
       "       'differentiate', 'Grade', 'A Stage', 'Tumor Size', 'Estrogen Status',\n",
       "       'Progesterone Status', 'Regional Node Examined',\n",
       "       'Reginol Node Positive', 'Survival Months', 'Status'],\n",
       "      dtype='object')"
      ]
     },
     "execution_count": 10,
     "metadata": {},
     "output_type": "execute_result"
    }
   ],
   "source": [
    "cancer.columns"
   ]
  },
  {
   "cell_type": "markdown",
   "id": "6f7c92e4",
   "metadata": {
    "papermill": {
     "duration": 0.008782,
     "end_time": "2025-04-02T08:30:28.355494",
     "exception": false,
     "start_time": "2025-04-02T08:30:28.346712",
     "status": "completed"
    },
    "tags": []
   },
   "source": [
    "# 3] Data Analysis"
   ]
  },
  {
   "cell_type": "code",
   "execution_count": 11,
   "id": "6082705f",
   "metadata": {
    "execution": {
     "iopub.execute_input": "2025-04-02T08:30:28.375919Z",
     "iopub.status.busy": "2025-04-02T08:30:28.375519Z",
     "iopub.status.idle": "2025-04-02T08:30:28.384286Z",
     "shell.execute_reply": "2025-04-02T08:30:28.383279Z"
    },
    "papermill": {
     "duration": 0.022352,
     "end_time": "2025-04-02T08:30:28.387386",
     "exception": false,
     "start_time": "2025-04-02T08:30:28.365034",
     "status": "completed"
    },
    "tags": []
   },
   "outputs": [
    {
     "data": {
      "text/plain": [
       "Status\n",
       "Alive    3408\n",
       "Dead      616\n",
       "Name: count, dtype: int64"
      ]
     },
     "execution_count": 11,
     "metadata": {},
     "output_type": "execute_result"
    }
   ],
   "source": [
    "cancer['Status'].value_counts()"
   ]
  },
  {
   "cell_type": "code",
   "execution_count": 12,
   "id": "73c82452",
   "metadata": {
    "execution": {
     "iopub.execute_input": "2025-04-02T08:30:28.407929Z",
     "iopub.status.busy": "2025-04-02T08:30:28.407527Z",
     "iopub.status.idle": "2025-04-02T08:30:28.675320Z",
     "shell.execute_reply": "2025-04-02T08:30:28.674032Z"
    },
    "papermill": {
     "duration": 0.280422,
     "end_time": "2025-04-02T08:30:28.677529",
     "exception": false,
     "start_time": "2025-04-02T08:30:28.397107",
     "status": "completed"
    },
    "tags": []
   },
   "outputs": [
    {
     "data": {
      "text/plain": [
       "<Axes: xlabel='Status'>"
      ]
     },
     "execution_count": 12,
     "metadata": {},
     "output_type": "execute_result"
    },
    {
     "data": {
      "image/png": "[encoded data removed]",
      "text/plain": [
       "<Figure size 640x480 with 1 Axes>"
      ]
     },
     "metadata": {},
     "output_type": "display_data"
    }
   ],
   "source": [
    "cancer['Status'].value_counts().plot(kind='bar')"
   ]
  },
  {
   "cell_type": "code",
   "execution_count": 13,
   "id": "1a5a3972",
   "metadata": {
    "execution": {
     "iopub.execute_input": "2025-04-02T08:30:28.699485Z",
     "iopub.status.busy": "2025-04-02T08:30:28.699061Z",
     "iopub.status.idle": "2025-04-02T08:30:28.706494Z",
     "shell.execute_reply": "2025-04-02T08:30:28.705368Z"
    },
    "papermill": {
     "duration": 0.021061,
     "end_time": "2025-04-02T08:30:28.708890",
     "exception": false,
     "start_time": "2025-04-02T08:30:28.687829",
     "status": "completed"
    },
    "tags": []
   },
   "outputs": [
    {
     "data": {
      "text/plain": [
       "Index(['Age', 'Race', 'Marital Status', 'T Stage ', 'N Stage', '6th Stage',\n",
       "       'differentiate', 'Grade', 'A Stage', 'Tumor Size', 'Estrogen Status',\n",
       "       'Progesterone Status', 'Regional Node Examined',\n",
       "       'Reginol Node Positive', 'Survival Months', 'Status'],\n",
       "      dtype='object')"
      ]
     },
     "execution_count": 13,
     "metadata": {},
     "output_type": "execute_result"
    }
   ],
   "source": [
    "cancer.columns"
   ]
  },
  {
   "cell_type": "code",
   "execution_count": 14,
   "id": "d53ad7b4",
   "metadata": {
    "execution": {
     "iopub.execute_input": "2025-04-02T08:30:28.730714Z",
     "iopub.status.busy": "2025-04-02T08:30:28.729753Z",
     "iopub.status.idle": "2025-04-02T08:30:32.581020Z",
     "shell.execute_reply": "2025-04-02T08:30:32.579822Z"
    },
    "papermill": {
     "duration": 3.864462,
     "end_time": "2025-04-02T08:30:32.583277",
     "exception": false,
     "start_time": "2025-04-02T08:30:28.718815",
     "status": "completed"
    },
    "tags": []
   },
   "outputs": [
    {
     "data": {
      "text/plain": [
       "<Figure size 1200x600 with 0 Axes>"
      ]
     },
     "metadata": {},
     "output_type": "display_data"
    },
    {
     "data": {
      "image/png": "[encoded data removed]",
      "text/plain": [
       "<Figure size 1000x500 with 1 Axes>"
      ]
     },
     "metadata": {},
     "output_type": "display_data"
    },
    {
     "data": {
      "image/png": "[encoded data removed]",
      "text/plain": [
       "<Figure size 1000x500 with 1 Axes>"
      ]
     },
     "metadata": {},
     "output_type": "display_data"
    },
    {
     "data": {
      "image/png": "[encoded data removed]",
      "text/plain": [
       "<Figure size 1000x500 with 1 Axes>"
      ]
     },
     "metadata": {},
     "output_type": "display_data"
    },
    {
     "data": {
      "image/png": "[encoded data removed]",
      "text/plain": [
       "<Figure size 1000x500 with 1 Axes>"
      ]
     },
     "metadata": {},
     "output_type": "display_data"
    },
    {
     "data": {
      "image/png": "[encoded data removed]",
      "text/plain": [
       "<Figure size 1000x500 with 1 Axes>"
      ]
     },
     "metadata": {},
     "output_type": "display_data"
    },
    {
     "data": {
      "image/png": "[encoded data removed]",
      "text/plain": [
       "<Figure size 1000x500 with 1 Axes>"
      ]
     },
     "metadata": {},
     "output_type": "display_data"
    },
    {
     "data": {
      "image/png": "[encoded data removed]",
      "text/plain": [
       "<Figure size 1000x500 with 1 Axes>"
      ]
     },
     "metadata": {},
     "output_type": "display_data"
    },
    {
     "data": {
      "image/png": "[encoded data removed]",
      "text/plain": [
       "<Figure size 1000x500 with 1 Axes>"
      ]
     },
     "metadata": {},
     "output_type": "display_data"
    },
    {
     "data": {
      "image/png": "[encoded data removed]",
      "text/plain": [
       "<Figure size 1000x500 with 1 Axes>"
      ]
     },
     "metadata": {},
     "output_type": "display_data"
    },
    {
     "data": {
      "image/png": "[encoded data removed]",
      "text/plain": [
       "<Figure size 1000x500 with 1 Axes>"
      ]
     },
     "metadata": {},
     "output_type": "display_data"
    },
    {
     "data": {
      "image/png": "[encoded data removed]",
      "text/plain": [
       "<Figure size 1000x500 with 1 Axes>"
      ]
     },
     "metadata": {},
     "output_type": "display_data"
    },
    {
     "data": {
      "image/png": "[encoded data removed]",
      "text/plain": [
       "<Figure size 1000x500 with 1 Axes>"
      ]
     },
     "metadata": {},
     "output_type": "display_data"
    },
    {
     "data": {
      "image/png": "[encoded data removed]",
      "text/plain": [
       "<Figure size 1000x500 with 1 Axes>"
      ]
     },
     "metadata": {},
     "output_type": "display_data"
    },
    {
     "data": {
      "image/png": "[encoded data removed]",
      "text/plain": [
       "<Figure size 1000x500 with 1 Axes>"
      ]
     },
     "metadata": {},
     "output_type": "display_data"
    },
    {
     "data": {
      "image/png": "[encoded data removed]",
      "text/plain": [
       "<Figure size 1000x500 with 1 Axes>"
      ]
     },
     "metadata": {},
     "output_type": "display_data"
    },
    {
     "data": {
      "image/png": "[encoded data removed]",
      "text/plain": [
       "<Figure size 1000x500 with 1 Axes>"
      ]
     },
     "metadata": {},
     "output_type": "display_data"
    }
   ],
   "source": [
    "\n",
    "plt.figure(figsize=(12, 6))\n",
    "\n",
    "for col in cancer.columns:\n",
    "    plt.figure(figsize=(10, 5))\n",
    "    if cancer[col].dtype == 'object':  \n",
    "        sns.histplot(cancer[col], kde=False)\n",
    "    else:  \n",
    "        sns.histplot(cancer[col], kde=True, bins=30)\n",
    "    plt.title(f'Distribution of {col}')\n",
    "    plt.xlabel(col)\n",
    "    plt.ylabel('Count')\n",
    "    plt.xticks(rotation=45)\n",
    "    plt.show()\n"
   ]
  },
  {
   "cell_type": "markdown",
   "id": "605f5366",
   "metadata": {
    "papermill": {
     "duration": 0.016632,
     "end_time": "2025-04-02T08:30:32.617221",
     "exception": false,
     "start_time": "2025-04-02T08:30:32.600589",
     "status": "completed"
    },
    "tags": []
   },
   "source": [
    "# 4] Preprocessing"
   ]
  },
  {
   "cell_type": "markdown",
   "id": "215abdfc",
   "metadata": {
    "papermill": {
     "duration": 0.016582,
     "end_time": "2025-04-02T08:30:32.651047",
     "exception": false,
     "start_time": "2025-04-02T08:30:32.634465",
     "status": "completed"
    },
    "tags": []
   },
   "source": [
    "Transform object to int "
   ]
  },
  {
   "cell_type": "code",
   "execution_count": 15,
   "id": "fc761d5c",
   "metadata": {
    "execution": {
     "iopub.execute_input": "2025-04-02T08:30:32.686512Z",
     "iopub.status.busy": "2025-04-02T08:30:32.686137Z",
     "iopub.status.idle": "2025-04-02T08:30:32.691108Z",
     "shell.execute_reply": "2025-04-02T08:30:32.689948Z"
    },
    "papermill": {
     "duration": 0.025304,
     "end_time": "2025-04-02T08:30:32.693453",
     "exception": false,
     "start_time": "2025-04-02T08:30:32.668149",
     "status": "completed"
    },
    "tags": []
   },
   "outputs": [],
   "source": [
    "la = LabelEncoder()"
   ]
  },
  {
   "cell_type": "code",
   "execution_count": 16,
   "id": "ed3c7ced",
   "metadata": {
    "execution": {
     "iopub.execute_input": "2025-04-02T08:30:32.729802Z",
     "iopub.status.busy": "2025-04-02T08:30:32.729369Z",
     "iopub.status.idle": "2025-04-02T08:30:32.735802Z",
     "shell.execute_reply": "2025-04-02T08:30:32.734795Z"
    },
    "papermill": {
     "duration": 0.027196,
     "end_time": "2025-04-02T08:30:32.737880",
     "exception": false,
     "start_time": "2025-04-02T08:30:32.710684",
     "status": "completed"
    },
    "tags": []
   },
   "outputs": [],
   "source": [
    "ob=cancer.select_dtypes(include='object')\n",
    "non_ob=cancer.select_dtypes(exclude='object')"
   ]
  },
  {
   "cell_type": "code",
   "execution_count": 17,
   "id": "dd907400",
   "metadata": {
    "execution": {
     "iopub.execute_input": "2025-04-02T08:30:32.773553Z",
     "iopub.status.busy": "2025-04-02T08:30:32.773116Z",
     "iopub.status.idle": "2025-04-02T08:30:32.787579Z",
     "shell.execute_reply": "2025-04-02T08:30:32.786510Z"
    },
    "papermill": {
     "duration": 0.034856,
     "end_time": "2025-04-02T08:30:32.789574",
     "exception": false,
     "start_time": "2025-04-02T08:30:32.754718",
     "status": "completed"
    },
    "tags": []
   },
   "outputs": [
    {
     "data": {
      "text/html": [
       "<div>\n",
       "<style scoped>\n",
       "    .dataframe tbody tr th:only-of-type {\n",
       "        vertical-align: middle;\n",
       "    }\n",
       "\n",
       "    .dataframe tbody tr th {\n",
       "        vertical-align: top;\n",
       "    }\n",
       "\n",
       "    .dataframe thead th {\n",
       "        text-align: right;\n",
       "    }\n",
       "</style>\n",
       "<table border=\"1\" class=\"dataframe\">\n",
       "  <thead>\n",
       "    <tr style=\"text-align: right;\">\n",
       "      <th></th>\n",
       "      <th>Race</th>\n",
       "      <th>Marital Status</th>\n",
       "      <th>T Stage</th>\n",
       "      <th>N Stage</th>\n",
       "      <th>6th Stage</th>\n",
       "      <th>differentiate</th>\n",
       "      <th>Grade</th>\n",
       "      <th>A Stage</th>\n",
       "      <th>Estrogen Status</th>\n",
       "      <th>Progesterone Status</th>\n",
       "      <th>Status</th>\n",
       "    </tr>\n",
       "  </thead>\n",
       "  <tbody>\n",
       "    <tr>\n",
       "      <th>0</th>\n",
       "      <td>White</td>\n",
       "      <td>Married</td>\n",
       "      <td>T1</td>\n",
       "      <td>N1</td>\n",
       "      <td>IIA</td>\n",
       "      <td>Poorly differentiated</td>\n",
       "      <td>3</td>\n",
       "      <td>Regional</td>\n",
       "      <td>Positive</td>\n",
       "      <td>Positive</td>\n",
       "      <td>Alive</td>\n",
       "    </tr>\n",
       "    <tr>\n",
       "      <th>1</th>\n",
       "      <td>White</td>\n",
       "      <td>Married</td>\n",
       "      <td>T2</td>\n",
       "      <td>N2</td>\n",
       "      <td>IIIA</td>\n",
       "      <td>Moderately differentiated</td>\n",
       "      <td>2</td>\n",
       "      <td>Regional</td>\n",
       "      <td>Positive</td>\n",
       "      <td>Positive</td>\n",
       "      <td>Alive</td>\n",
       "    </tr>\n",
       "    <tr>\n",
       "      <th>2</th>\n",
       "      <td>White</td>\n",
       "      <td>Divorced</td>\n",
       "      <td>T3</td>\n",
       "      <td>N3</td>\n",
       "      <td>IIIC</td>\n",
       "      <td>Moderately differentiated</td>\n",
       "      <td>2</td>\n",
       "      <td>Regional</td>\n",
       "      <td>Positive</td>\n",
       "      <td>Positive</td>\n",
       "      <td>Alive</td>\n",
       "    </tr>\n",
       "    <tr>\n",
       "      <th>3</th>\n",
       "      <td>White</td>\n",
       "      <td>Married</td>\n",
       "      <td>T1</td>\n",
       "      <td>N1</td>\n",
       "      <td>IIA</td>\n",
       "      <td>Poorly differentiated</td>\n",
       "      <td>3</td>\n",
       "      <td>Regional</td>\n",
       "      <td>Positive</td>\n",
       "      <td>Positive</td>\n",
       "      <td>Alive</td>\n",
       "    </tr>\n",
       "    <tr>\n",
       "      <th>4</th>\n",
       "      <td>White</td>\n",
       "      <td>Married</td>\n",
       "      <td>T2</td>\n",
       "      <td>N1</td>\n",
       "      <td>IIB</td>\n",
       "      <td>Poorly differentiated</td>\n",
       "      <td>3</td>\n",
       "      <td>Regional</td>\n",
       "      <td>Positive</td>\n",
       "      <td>Positive</td>\n",
       "      <td>Alive</td>\n",
       "    </tr>\n",
       "  </tbody>\n",
       "</table>\n",
       "</div>"
      ],
      "text/plain": [
       "    Race Marital Status T Stage  N Stage 6th Stage              differentiate  \\\n",
       "0  White        Married       T1      N1       IIA      Poorly differentiated   \n",
       "1  White        Married       T2      N2      IIIA  Moderately differentiated   \n",
       "2  White       Divorced       T3      N3      IIIC  Moderately differentiated   \n",
       "3  White        Married       T1      N1       IIA      Poorly differentiated   \n",
       "4  White        Married       T2      N1       IIB      Poorly differentiated   \n",
       "\n",
       "  Grade   A Stage Estrogen Status Progesterone Status Status  \n",
       "0     3  Regional        Positive            Positive  Alive  \n",
       "1     2  Regional        Positive            Positive  Alive  \n",
       "2     2  Regional        Positive            Positive  Alive  \n",
       "3     3  Regional        Positive            Positive  Alive  \n",
       "4     3  Regional        Positive            Positive  Alive  "
      ]
     },
     "execution_count": 17,
     "metadata": {},
     "output_type": "execute_result"
    }
   ],
   "source": [
    "ob.head()"
   ]
  },
  {
   "cell_type": "code",
   "execution_count": 18,
   "id": "cb98b25c",
   "metadata": {
    "execution": {
     "iopub.execute_input": "2025-04-02T08:30:32.825613Z",
     "iopub.status.busy": "2025-04-02T08:30:32.825237Z",
     "iopub.status.idle": "2025-04-02T08:30:32.836222Z",
     "shell.execute_reply": "2025-04-02T08:30:32.835043Z"
    },
    "papermill": {
     "duration": 0.031872,
     "end_time": "2025-04-02T08:30:32.838347",
     "exception": false,
     "start_time": "2025-04-02T08:30:32.806475",
     "status": "completed"
    },
    "tags": []
   },
   "outputs": [
    {
     "data": {
      "text/html": [
       "<div>\n",
       "<style scoped>\n",
       "    .dataframe tbody tr th:only-of-type {\n",
       "        vertical-align: middle;\n",
       "    }\n",
       "\n",
       "    .dataframe tbody tr th {\n",
       "        vertical-align: top;\n",
       "    }\n",
       "\n",
       "    .dataframe thead th {\n",
       "        text-align: right;\n",
       "    }\n",
       "</style>\n",
       "<table border=\"1\" class=\"dataframe\">\n",
       "  <thead>\n",
       "    <tr style=\"text-align: right;\">\n",
       "      <th></th>\n",
       "      <th>Age</th>\n",
       "      <th>Tumor Size</th>\n",
       "      <th>Regional Node Examined</th>\n",
       "      <th>Reginol Node Positive</th>\n",
       "      <th>Survival Months</th>\n",
       "    </tr>\n",
       "  </thead>\n",
       "  <tbody>\n",
       "    <tr>\n",
       "      <th>0</th>\n",
       "      <td>68</td>\n",
       "      <td>4</td>\n",
       "      <td>24</td>\n",
       "      <td>1</td>\n",
       "      <td>60</td>\n",
       "    </tr>\n",
       "    <tr>\n",
       "      <th>1</th>\n",
       "      <td>50</td>\n",
       "      <td>35</td>\n",
       "      <td>14</td>\n",
       "      <td>5</td>\n",
       "      <td>62</td>\n",
       "    </tr>\n",
       "    <tr>\n",
       "      <th>2</th>\n",
       "      <td>58</td>\n",
       "      <td>63</td>\n",
       "      <td>14</td>\n",
       "      <td>7</td>\n",
       "      <td>75</td>\n",
       "    </tr>\n",
       "    <tr>\n",
       "      <th>3</th>\n",
       "      <td>58</td>\n",
       "      <td>18</td>\n",
       "      <td>2</td>\n",
       "      <td>1</td>\n",
       "      <td>84</td>\n",
       "    </tr>\n",
       "    <tr>\n",
       "      <th>4</th>\n",
       "      <td>47</td>\n",
       "      <td>41</td>\n",
       "      <td>3</td>\n",
       "      <td>1</td>\n",
       "      <td>50</td>\n",
       "    </tr>\n",
       "  </tbody>\n",
       "</table>\n",
       "</div>"
      ],
      "text/plain": [
       "   Age  Tumor Size  Regional Node Examined  Reginol Node Positive  \\\n",
       "0   68           4                      24                      1   \n",
       "1   50          35                      14                      5   \n",
       "2   58          63                      14                      7   \n",
       "3   58          18                       2                      1   \n",
       "4   47          41                       3                      1   \n",
       "\n",
       "   Survival Months  \n",
       "0               60  \n",
       "1               62  \n",
       "2               75  \n",
       "3               84  \n",
       "4               50  "
      ]
     },
     "execution_count": 18,
     "metadata": {},
     "output_type": "execute_result"
    }
   ],
   "source": [
    "non_ob.head()"
   ]
  },
  {
   "cell_type": "code",
   "execution_count": 19,
   "id": "616e9880",
   "metadata": {
    "execution": {
     "iopub.execute_input": "2025-04-02T08:30:32.877335Z",
     "iopub.status.busy": "2025-04-02T08:30:32.875926Z",
     "iopub.status.idle": "2025-04-02T08:30:32.896061Z",
     "shell.execute_reply": "2025-04-02T08:30:32.894840Z"
    },
    "papermill": {
     "duration": 0.042145,
     "end_time": "2025-04-02T08:30:32.898360",
     "exception": false,
     "start_time": "2025-04-02T08:30:32.856215",
     "status": "completed"
    },
    "tags": []
   },
   "outputs": [],
   "source": [
    "for i in range(0,ob.shape[1]):\n",
    "    ob.iloc[:,i]=la.fit_transform(ob.iloc[:,i])"
   ]
  },
  {
   "cell_type": "code",
   "execution_count": 20,
   "id": "7278c3c2",
   "metadata": {
    "execution": {
     "iopub.execute_input": "2025-04-02T08:30:32.934676Z",
     "iopub.status.busy": "2025-04-02T08:30:32.934292Z",
     "iopub.status.idle": "2025-04-02T08:30:32.949327Z",
     "shell.execute_reply": "2025-04-02T08:30:32.948285Z"
    },
    "papermill": {
     "duration": 0.035861,
     "end_time": "2025-04-02T08:30:32.951468",
     "exception": false,
     "start_time": "2025-04-02T08:30:32.915607",
     "status": "completed"
    },
    "tags": []
   },
   "outputs": [
    {
     "data": {
      "text/html": [
       "<div>\n",
       "<style scoped>\n",
       "    .dataframe tbody tr th:only-of-type {\n",
       "        vertical-align: middle;\n",
       "    }\n",
       "\n",
       "    .dataframe tbody tr th {\n",
       "        vertical-align: top;\n",
       "    }\n",
       "\n",
       "    .dataframe thead th {\n",
       "        text-align: right;\n",
       "    }\n",
       "</style>\n",
       "<table border=\"1\" class=\"dataframe\">\n",
       "  <thead>\n",
       "    <tr style=\"text-align: right;\">\n",
       "      <th></th>\n",
       "      <th>Race</th>\n",
       "      <th>Marital Status</th>\n",
       "      <th>T Stage</th>\n",
       "      <th>N Stage</th>\n",
       "      <th>6th Stage</th>\n",
       "      <th>differentiate</th>\n",
       "      <th>Grade</th>\n",
       "      <th>A Stage</th>\n",
       "      <th>Estrogen Status</th>\n",
       "      <th>Progesterone Status</th>\n",
       "      <th>Status</th>\n",
       "    </tr>\n",
       "  </thead>\n",
       "  <tbody>\n",
       "    <tr>\n",
       "      <th>0</th>\n",
       "      <td>2</td>\n",
       "      <td>1</td>\n",
       "      <td>0</td>\n",
       "      <td>0</td>\n",
       "      <td>0</td>\n",
       "      <td>1</td>\n",
       "      <td>3</td>\n",
       "      <td>1</td>\n",
       "      <td>1</td>\n",
       "      <td>1</td>\n",
       "      <td>0</td>\n",
       "    </tr>\n",
       "    <tr>\n",
       "      <th>1</th>\n",
       "      <td>2</td>\n",
       "      <td>1</td>\n",
       "      <td>1</td>\n",
       "      <td>1</td>\n",
       "      <td>2</td>\n",
       "      <td>0</td>\n",
       "      <td>2</td>\n",
       "      <td>1</td>\n",
       "      <td>1</td>\n",
       "      <td>1</td>\n",
       "      <td>0</td>\n",
       "    </tr>\n",
       "    <tr>\n",
       "      <th>2</th>\n",
       "      <td>2</td>\n",
       "      <td>0</td>\n",
       "      <td>2</td>\n",
       "      <td>2</td>\n",
       "      <td>4</td>\n",
       "      <td>0</td>\n",
       "      <td>2</td>\n",
       "      <td>1</td>\n",
       "      <td>1</td>\n",
       "      <td>1</td>\n",
       "      <td>0</td>\n",
       "    </tr>\n",
       "    <tr>\n",
       "      <th>3</th>\n",
       "      <td>2</td>\n",
       "      <td>1</td>\n",
       "      <td>0</td>\n",
       "      <td>0</td>\n",
       "      <td>0</td>\n",
       "      <td>1</td>\n",
       "      <td>3</td>\n",
       "      <td>1</td>\n",
       "      <td>1</td>\n",
       "      <td>1</td>\n",
       "      <td>0</td>\n",
       "    </tr>\n",
       "    <tr>\n",
       "      <th>4</th>\n",
       "      <td>2</td>\n",
       "      <td>1</td>\n",
       "      <td>1</td>\n",
       "      <td>0</td>\n",
       "      <td>1</td>\n",
       "      <td>1</td>\n",
       "      <td>3</td>\n",
       "      <td>1</td>\n",
       "      <td>1</td>\n",
       "      <td>1</td>\n",
       "      <td>0</td>\n",
       "    </tr>\n",
       "  </tbody>\n",
       "</table>\n",
       "</div>"
      ],
      "text/plain": [
       "  Race Marital Status T Stage  N Stage 6th Stage differentiate Grade A Stage  \\\n",
       "0    2              1        0       0         0             1     3       1   \n",
       "1    2              1        1       1         2             0     2       1   \n",
       "2    2              0        2       2         4             0     2       1   \n",
       "3    2              1        0       0         0             1     3       1   \n",
       "4    2              1        1       0         1             1     3       1   \n",
       "\n",
       "  Estrogen Status Progesterone Status Status  \n",
       "0               1                   1      0  \n",
       "1               1                   1      0  \n",
       "2               1                   1      0  \n",
       "3               1                   1      0  \n",
       "4               1                   1      0  "
      ]
     },
     "execution_count": 20,
     "metadata": {},
     "output_type": "execute_result"
    }
   ],
   "source": [
    "ob.head()"
   ]
  },
  {
   "cell_type": "code",
   "execution_count": 21,
   "id": "cb772457",
   "metadata": {
    "execution": {
     "iopub.execute_input": "2025-04-02T08:30:32.989849Z",
     "iopub.status.busy": "2025-04-02T08:30:32.989426Z",
     "iopub.status.idle": "2025-04-02T08:30:32.996120Z",
     "shell.execute_reply": "2025-04-02T08:30:32.995052Z"
    },
    "papermill": {
     "duration": 0.029181,
     "end_time": "2025-04-02T08:30:32.998416",
     "exception": false,
     "start_time": "2025-04-02T08:30:32.969235",
     "status": "completed"
    },
    "tags": []
   },
   "outputs": [],
   "source": [
    "ob=ob.astype('int')"
   ]
  },
  {
   "cell_type": "code",
   "execution_count": 22,
   "id": "d7a57096",
   "metadata": {
    "execution": {
     "iopub.execute_input": "2025-04-02T08:30:33.036956Z",
     "iopub.status.busy": "2025-04-02T08:30:33.036475Z",
     "iopub.status.idle": "2025-04-02T08:30:33.049036Z",
     "shell.execute_reply": "2025-04-02T08:30:33.047834Z"
    },
    "papermill": {
     "duration": 0.034297,
     "end_time": "2025-04-02T08:30:33.051491",
     "exception": false,
     "start_time": "2025-04-02T08:30:33.017194",
     "status": "completed"
    },
    "tags": []
   },
   "outputs": [
    {
     "name": "stdout",
     "output_type": "stream",
     "text": [
      "<class 'pandas.core.frame.DataFrame'>\n",
      "RangeIndex: 4024 entries, 0 to 4023\n",
      "Data columns (total 11 columns):\n",
      " #   Column               Non-Null Count  Dtype\n",
      "---  ------               --------------  -----\n",
      " 0   Race                 4024 non-null   int64\n",
      " 1   Marital Status       4024 non-null   int64\n",
      " 2   T Stage              4024 non-null   int64\n",
      " 3   N Stage              4024 non-null   int64\n",
      " 4   6th Stage            4024 non-null   int64\n",
      " 5   differentiate        4024 non-null   int64\n",
      " 6   Grade                4024 non-null   int64\n",
      " 7   A Stage              4024 non-null   int64\n",
      " 8   Estrogen Status      4024 non-null   int64\n",
      " 9   Progesterone Status  4024 non-null   int64\n",
      " 10  Status               4024 non-null   int64\n",
      "dtypes: int64(11)\n",
      "memory usage: 345.9 KB\n"
     ]
    }
   ],
   "source": [
    "ob.info()"
   ]
  },
  {
   "cell_type": "code",
   "execution_count": 23,
   "id": "c89dacaf",
   "metadata": {
    "execution": {
     "iopub.execute_input": "2025-04-02T08:30:33.091959Z",
     "iopub.status.busy": "2025-04-02T08:30:33.091503Z",
     "iopub.status.idle": "2025-04-02T08:30:33.098035Z",
     "shell.execute_reply": "2025-04-02T08:30:33.096713Z"
    },
    "papermill": {
     "duration": 0.030053,
     "end_time": "2025-04-02T08:30:33.100291",
     "exception": false,
     "start_time": "2025-04-02T08:30:33.070238",
     "status": "completed"
    },
    "tags": []
   },
   "outputs": [],
   "source": [
    "cancer=pd.concat([ob,non_ob],axis=1)"
   ]
  },
  {
   "cell_type": "code",
   "execution_count": 24,
   "id": "02d1f084",
   "metadata": {
    "execution": {
     "iopub.execute_input": "2025-04-02T08:30:33.138632Z",
     "iopub.status.busy": "2025-04-02T08:30:33.137640Z",
     "iopub.status.idle": "2025-04-02T08:30:33.153803Z",
     "shell.execute_reply": "2025-04-02T08:30:33.152604Z"
    },
    "papermill": {
     "duration": 0.037184,
     "end_time": "2025-04-02T08:30:33.155995",
     "exception": false,
     "start_time": "2025-04-02T08:30:33.118811",
     "status": "completed"
    },
    "tags": []
   },
   "outputs": [
    {
     "data": {
      "text/html": [
       "<div>\n",
       "<style scoped>\n",
       "    .dataframe tbody tr th:only-of-type {\n",
       "        vertical-align: middle;\n",
       "    }\n",
       "\n",
       "    .dataframe tbody tr th {\n",
       "        vertical-align: top;\n",
       "    }\n",
       "\n",
       "    .dataframe thead th {\n",
       "        text-align: right;\n",
       "    }\n",
       "</style>\n",
       "<table border=\"1\" class=\"dataframe\">\n",
       "  <thead>\n",
       "    <tr style=\"text-align: right;\">\n",
       "      <th></th>\n",
       "      <th>Race</th>\n",
       "      <th>Marital Status</th>\n",
       "      <th>T Stage</th>\n",
       "      <th>N Stage</th>\n",
       "      <th>6th Stage</th>\n",
       "      <th>differentiate</th>\n",
       "      <th>Grade</th>\n",
       "      <th>A Stage</th>\n",
       "      <th>Estrogen Status</th>\n",
       "      <th>Progesterone Status</th>\n",
       "      <th>Status</th>\n",
       "      <th>Age</th>\n",
       "      <th>Tumor Size</th>\n",
       "      <th>Regional Node Examined</th>\n",
       "      <th>Reginol Node Positive</th>\n",
       "      <th>Survival Months</th>\n",
       "    </tr>\n",
       "  </thead>\n",
       "  <tbody>\n",
       "    <tr>\n",
       "      <th>0</th>\n",
       "      <td>2</td>\n",
       "      <td>1</td>\n",
       "      <td>0</td>\n",
       "      <td>0</td>\n",
       "      <td>0</td>\n",
       "      <td>1</td>\n",
       "      <td>3</td>\n",
       "      <td>1</td>\n",
       "      <td>1</td>\n",
       "      <td>1</td>\n",
       "      <td>0</td>\n",
       "      <td>68</td>\n",
       "      <td>4</td>\n",
       "      <td>24</td>\n",
       "      <td>1</td>\n",
       "      <td>60</td>\n",
       "    </tr>\n",
       "    <tr>\n",
       "      <th>1</th>\n",
       "      <td>2</td>\n",
       "      <td>1</td>\n",
       "      <td>1</td>\n",
       "      <td>1</td>\n",
       "      <td>2</td>\n",
       "      <td>0</td>\n",
       "      <td>2</td>\n",
       "      <td>1</td>\n",
       "      <td>1</td>\n",
       "      <td>1</td>\n",
       "      <td>0</td>\n",
       "      <td>50</td>\n",
       "      <td>35</td>\n",
       "      <td>14</td>\n",
       "      <td>5</td>\n",
       "      <td>62</td>\n",
       "    </tr>\n",
       "    <tr>\n",
       "      <th>2</th>\n",
       "      <td>2</td>\n",
       "      <td>0</td>\n",
       "      <td>2</td>\n",
       "      <td>2</td>\n",
       "      <td>4</td>\n",
       "      <td>0</td>\n",
       "      <td>2</td>\n",
       "      <td>1</td>\n",
       "      <td>1</td>\n",
       "      <td>1</td>\n",
       "      <td>0</td>\n",
       "      <td>58</td>\n",
       "      <td>63</td>\n",
       "      <td>14</td>\n",
       "      <td>7</td>\n",
       "      <td>75</td>\n",
       "    </tr>\n",
       "    <tr>\n",
       "      <th>3</th>\n",
       "      <td>2</td>\n",
       "      <td>1</td>\n",
       "      <td>0</td>\n",
       "      <td>0</td>\n",
       "      <td>0</td>\n",
       "      <td>1</td>\n",
       "      <td>3</td>\n",
       "      <td>1</td>\n",
       "      <td>1</td>\n",
       "      <td>1</td>\n",
       "      <td>0</td>\n",
       "      <td>58</td>\n",
       "      <td>18</td>\n",
       "      <td>2</td>\n",
       "      <td>1</td>\n",
       "      <td>84</td>\n",
       "    </tr>\n",
       "    <tr>\n",
       "      <th>4</th>\n",
       "      <td>2</td>\n",
       "      <td>1</td>\n",
       "      <td>1</td>\n",
       "      <td>0</td>\n",
       "      <td>1</td>\n",
       "      <td>1</td>\n",
       "      <td>3</td>\n",
       "      <td>1</td>\n",
       "      <td>1</td>\n",
       "      <td>1</td>\n",
       "      <td>0</td>\n",
       "      <td>47</td>\n",
       "      <td>41</td>\n",
       "      <td>3</td>\n",
       "      <td>1</td>\n",
       "      <td>50</td>\n",
       "    </tr>\n",
       "    <tr>\n",
       "      <th>...</th>\n",
       "      <td>...</td>\n",
       "      <td>...</td>\n",
       "      <td>...</td>\n",
       "      <td>...</td>\n",
       "      <td>...</td>\n",
       "      <td>...</td>\n",
       "      <td>...</td>\n",
       "      <td>...</td>\n",
       "      <td>...</td>\n",
       "      <td>...</td>\n",
       "      <td>...</td>\n",
       "      <td>...</td>\n",
       "      <td>...</td>\n",
       "      <td>...</td>\n",
       "      <td>...</td>\n",
       "      <td>...</td>\n",
       "    </tr>\n",
       "    <tr>\n",
       "      <th>4019</th>\n",
       "      <td>1</td>\n",
       "      <td>1</td>\n",
       "      <td>0</td>\n",
       "      <td>0</td>\n",
       "      <td>0</td>\n",
       "      <td>0</td>\n",
       "      <td>2</td>\n",
       "      <td>1</td>\n",
       "      <td>1</td>\n",
       "      <td>1</td>\n",
       "      <td>0</td>\n",
       "      <td>62</td>\n",
       "      <td>9</td>\n",
       "      <td>1</td>\n",
       "      <td>1</td>\n",
       "      <td>49</td>\n",
       "    </tr>\n",
       "    <tr>\n",
       "      <th>4020</th>\n",
       "      <td>2</td>\n",
       "      <td>0</td>\n",
       "      <td>1</td>\n",
       "      <td>1</td>\n",
       "      <td>2</td>\n",
       "      <td>0</td>\n",
       "      <td>2</td>\n",
       "      <td>1</td>\n",
       "      <td>1</td>\n",
       "      <td>1</td>\n",
       "      <td>0</td>\n",
       "      <td>56</td>\n",
       "      <td>46</td>\n",
       "      <td>14</td>\n",
       "      <td>8</td>\n",
       "      <td>69</td>\n",
       "    </tr>\n",
       "    <tr>\n",
       "      <th>4021</th>\n",
       "      <td>2</td>\n",
       "      <td>1</td>\n",
       "      <td>1</td>\n",
       "      <td>0</td>\n",
       "      <td>1</td>\n",
       "      <td>0</td>\n",
       "      <td>2</td>\n",
       "      <td>1</td>\n",
       "      <td>1</td>\n",
       "      <td>0</td>\n",
       "      <td>0</td>\n",
       "      <td>68</td>\n",
       "      <td>22</td>\n",
       "      <td>11</td>\n",
       "      <td>3</td>\n",
       "      <td>69</td>\n",
       "    </tr>\n",
       "    <tr>\n",
       "      <th>4022</th>\n",
       "      <td>0</td>\n",
       "      <td>0</td>\n",
       "      <td>1</td>\n",
       "      <td>0</td>\n",
       "      <td>1</td>\n",
       "      <td>0</td>\n",
       "      <td>2</td>\n",
       "      <td>1</td>\n",
       "      <td>1</td>\n",
       "      <td>1</td>\n",
       "      <td>0</td>\n",
       "      <td>58</td>\n",
       "      <td>44</td>\n",
       "      <td>11</td>\n",
       "      <td>1</td>\n",
       "      <td>72</td>\n",
       "    </tr>\n",
       "    <tr>\n",
       "      <th>4023</th>\n",
       "      <td>2</td>\n",
       "      <td>1</td>\n",
       "      <td>1</td>\n",
       "      <td>0</td>\n",
       "      <td>1</td>\n",
       "      <td>0</td>\n",
       "      <td>2</td>\n",
       "      <td>1</td>\n",
       "      <td>1</td>\n",
       "      <td>1</td>\n",
       "      <td>0</td>\n",
       "      <td>46</td>\n",
       "      <td>30</td>\n",
       "      <td>7</td>\n",
       "      <td>2</td>\n",
       "      <td>100</td>\n",
       "    </tr>\n",
       "  </tbody>\n",
       "</table>\n",
       "<p>4024 rows × 16 columns</p>\n",
       "</div>"
      ],
      "text/plain": [
       "      Race  Marital Status  T Stage   N Stage  6th Stage  differentiate  \\\n",
       "0        2               1         0        0          0              1   \n",
       "1        2               1         1        1          2              0   \n",
       "2        2               0         2        2          4              0   \n",
       "3        2               1         0        0          0              1   \n",
       "4        2               1         1        0          1              1   \n",
       "...    ...             ...       ...      ...        ...            ...   \n",
       "4019     1               1         0        0          0              0   \n",
       "4020     2               0         1        1          2              0   \n",
       "4021     2               1         1        0          1              0   \n",
       "4022     0               0         1        0          1              0   \n",
       "4023     2               1         1        0          1              0   \n",
       "\n",
       "      Grade  A Stage  Estrogen Status  Progesterone Status  Status  Age  \\\n",
       "0         3        1                1                    1       0   68   \n",
       "1         2        1                1                    1       0   50   \n",
       "2         2        1                1                    1       0   58   \n",
       "3         3        1                1                    1       0   58   \n",
       "4         3        1                1                    1       0   47   \n",
       "...     ...      ...              ...                  ...     ...  ...   \n",
       "4019      2        1                1                    1       0   62   \n",
       "4020      2        1                1                    1       0   56   \n",
       "4021      2        1                1                    0       0   68   \n",
       "4022      2        1                1                    1       0   58   \n",
       "4023      2        1                1                    1       0   46   \n",
       "\n",
       "      Tumor Size  Regional Node Examined  Reginol Node Positive  \\\n",
       "0              4                      24                      1   \n",
       "1             35                      14                      5   \n",
       "2             63                      14                      7   \n",
       "3             18                       2                      1   \n",
       "4             41                       3                      1   \n",
       "...          ...                     ...                    ...   \n",
       "4019           9                       1                      1   \n",
       "4020          46                      14                      8   \n",
       "4021          22                      11                      3   \n",
       "4022          44                      11                      1   \n",
       "4023          30                       7                      2   \n",
       "\n",
       "      Survival Months  \n",
       "0                  60  \n",
       "1                  62  \n",
       "2                  75  \n",
       "3                  84  \n",
       "4                  50  \n",
       "...               ...  \n",
       "4019               49  \n",
       "4020               69  \n",
       "4021               69  \n",
       "4022               72  \n",
       "4023              100  \n",
       "\n",
       "[4024 rows x 16 columns]"
      ]
     },
     "execution_count": 24,
     "metadata": {},
     "output_type": "execute_result"
    }
   ],
   "source": [
    "cancer"
   ]
  },
  {
   "cell_type": "markdown",
   "id": "a0bf78ec",
   "metadata": {
    "papermill": {
     "duration": 0.018279,
     "end_time": "2025-04-02T08:30:33.192628",
     "exception": false,
     "start_time": "2025-04-02T08:30:33.174349",
     "status": "completed"
    },
    "tags": []
   },
   "source": [
    "# 5] Build Model"
   ]
  },
  {
   "cell_type": "code",
   "execution_count": 25,
   "id": "5750d97f",
   "metadata": {
    "execution": {
     "iopub.execute_input": "2025-04-02T08:30:33.232687Z",
     "iopub.status.busy": "2025-04-02T08:30:33.232311Z",
     "iopub.status.idle": "2025-04-02T08:30:33.239022Z",
     "shell.execute_reply": "2025-04-02T08:30:33.237829Z"
    },
    "papermill": {
     "duration": 0.030023,
     "end_time": "2025-04-02T08:30:33.241475",
     "exception": false,
     "start_time": "2025-04-02T08:30:33.211452",
     "status": "completed"
    },
    "tags": []
   },
   "outputs": [],
   "source": [
    "x=cancer.drop(['Status'],axis=1)"
   ]
  },
  {
   "cell_type": "code",
   "execution_count": 26,
   "id": "26c350fd",
   "metadata": {
    "execution": {
     "iopub.execute_input": "2025-04-02T08:30:33.280393Z",
     "iopub.status.busy": "2025-04-02T08:30:33.279974Z",
     "iopub.status.idle": "2025-04-02T08:30:33.285195Z",
     "shell.execute_reply": "2025-04-02T08:30:33.284049Z"
    },
    "papermill": {
     "duration": 0.027021,
     "end_time": "2025-04-02T08:30:33.287336",
     "exception": false,
     "start_time": "2025-04-02T08:30:33.260315",
     "status": "completed"
    },
    "tags": []
   },
   "outputs": [],
   "source": [
    "y=cancer['Status']"
   ]
  },
  {
   "cell_type": "code",
   "execution_count": 27,
   "id": "b24817e8",
   "metadata": {
    "execution": {
     "iopub.execute_input": "2025-04-02T08:30:33.326717Z",
     "iopub.status.busy": "2025-04-02T08:30:33.326337Z",
     "iopub.status.idle": "2025-04-02T08:30:33.342152Z",
     "shell.execute_reply": "2025-04-02T08:30:33.340698Z"
    },
    "papermill": {
     "duration": 0.038442,
     "end_time": "2025-04-02T08:30:33.344622",
     "exception": false,
     "start_time": "2025-04-02T08:30:33.306180",
     "status": "completed"
    },
    "tags": []
   },
   "outputs": [
    {
     "data": {
      "text/html": [
       "<div>\n",
       "<style scoped>\n",
       "    .dataframe tbody tr th:only-of-type {\n",
       "        vertical-align: middle;\n",
       "    }\n",
       "\n",
       "    .dataframe tbody tr th {\n",
       "        vertical-align: top;\n",
       "    }\n",
       "\n",
       "    .dataframe thead th {\n",
       "        text-align: right;\n",
       "    }\n",
       "</style>\n",
       "<table border=\"1\" class=\"dataframe\">\n",
       "  <thead>\n",
       "    <tr style=\"text-align: right;\">\n",
       "      <th></th>\n",
       "      <th>Race</th>\n",
       "      <th>Marital Status</th>\n",
       "      <th>T Stage</th>\n",
       "      <th>N Stage</th>\n",
       "      <th>6th Stage</th>\n",
       "      <th>differentiate</th>\n",
       "      <th>Grade</th>\n",
       "      <th>A Stage</th>\n",
       "      <th>Estrogen Status</th>\n",
       "      <th>Progesterone Status</th>\n",
       "      <th>Age</th>\n",
       "      <th>Tumor Size</th>\n",
       "      <th>Regional Node Examined</th>\n",
       "      <th>Reginol Node Positive</th>\n",
       "      <th>Survival Months</th>\n",
       "    </tr>\n",
       "  </thead>\n",
       "  <tbody>\n",
       "    <tr>\n",
       "      <th>0</th>\n",
       "      <td>2</td>\n",
       "      <td>1</td>\n",
       "      <td>0</td>\n",
       "      <td>0</td>\n",
       "      <td>0</td>\n",
       "      <td>1</td>\n",
       "      <td>3</td>\n",
       "      <td>1</td>\n",
       "      <td>1</td>\n",
       "      <td>1</td>\n",
       "      <td>68</td>\n",
       "      <td>4</td>\n",
       "      <td>24</td>\n",
       "      <td>1</td>\n",
       "      <td>60</td>\n",
       "    </tr>\n",
       "    <tr>\n",
       "      <th>1</th>\n",
       "      <td>2</td>\n",
       "      <td>1</td>\n",
       "      <td>1</td>\n",
       "      <td>1</td>\n",
       "      <td>2</td>\n",
       "      <td>0</td>\n",
       "      <td>2</td>\n",
       "      <td>1</td>\n",
       "      <td>1</td>\n",
       "      <td>1</td>\n",
       "      <td>50</td>\n",
       "      <td>35</td>\n",
       "      <td>14</td>\n",
       "      <td>5</td>\n",
       "      <td>62</td>\n",
       "    </tr>\n",
       "    <tr>\n",
       "      <th>2</th>\n",
       "      <td>2</td>\n",
       "      <td>0</td>\n",
       "      <td>2</td>\n",
       "      <td>2</td>\n",
       "      <td>4</td>\n",
       "      <td>0</td>\n",
       "      <td>2</td>\n",
       "      <td>1</td>\n",
       "      <td>1</td>\n",
       "      <td>1</td>\n",
       "      <td>58</td>\n",
       "      <td>63</td>\n",
       "      <td>14</td>\n",
       "      <td>7</td>\n",
       "      <td>75</td>\n",
       "    </tr>\n",
       "    <tr>\n",
       "      <th>3</th>\n",
       "      <td>2</td>\n",
       "      <td>1</td>\n",
       "      <td>0</td>\n",
       "      <td>0</td>\n",
       "      <td>0</td>\n",
       "      <td>1</td>\n",
       "      <td>3</td>\n",
       "      <td>1</td>\n",
       "      <td>1</td>\n",
       "      <td>1</td>\n",
       "      <td>58</td>\n",
       "      <td>18</td>\n",
       "      <td>2</td>\n",
       "      <td>1</td>\n",
       "      <td>84</td>\n",
       "    </tr>\n",
       "    <tr>\n",
       "      <th>4</th>\n",
       "      <td>2</td>\n",
       "      <td>1</td>\n",
       "      <td>1</td>\n",
       "      <td>0</td>\n",
       "      <td>1</td>\n",
       "      <td>1</td>\n",
       "      <td>3</td>\n",
       "      <td>1</td>\n",
       "      <td>1</td>\n",
       "      <td>1</td>\n",
       "      <td>47</td>\n",
       "      <td>41</td>\n",
       "      <td>3</td>\n",
       "      <td>1</td>\n",
       "      <td>50</td>\n",
       "    </tr>\n",
       "    <tr>\n",
       "      <th>...</th>\n",
       "      <td>...</td>\n",
       "      <td>...</td>\n",
       "      <td>...</td>\n",
       "      <td>...</td>\n",
       "      <td>...</td>\n",
       "      <td>...</td>\n",
       "      <td>...</td>\n",
       "      <td>...</td>\n",
       "      <td>...</td>\n",
       "      <td>...</td>\n",
       "      <td>...</td>\n",
       "      <td>...</td>\n",
       "      <td>...</td>\n",
       "      <td>...</td>\n",
       "      <td>...</td>\n",
       "    </tr>\n",
       "    <tr>\n",
       "      <th>4019</th>\n",
       "      <td>1</td>\n",
       "      <td>1</td>\n",
       "      <td>0</td>\n",
       "      <td>0</td>\n",
       "      <td>0</td>\n",
       "      <td>0</td>\n",
       "      <td>2</td>\n",
       "      <td>1</td>\n",
       "      <td>1</td>\n",
       "      <td>1</td>\n",
       "      <td>62</td>\n",
       "      <td>9</td>\n",
       "      <td>1</td>\n",
       "      <td>1</td>\n",
       "      <td>49</td>\n",
       "    </tr>\n",
       "    <tr>\n",
       "      <th>4020</th>\n",
       "      <td>2</td>\n",
       "      <td>0</td>\n",
       "      <td>1</td>\n",
       "      <td>1</td>\n",
       "      <td>2</td>\n",
       "      <td>0</td>\n",
       "      <td>2</td>\n",
       "      <td>1</td>\n",
       "      <td>1</td>\n",
       "      <td>1</td>\n",
       "      <td>56</td>\n",
       "      <td>46</td>\n",
       "      <td>14</td>\n",
       "      <td>8</td>\n",
       "      <td>69</td>\n",
       "    </tr>\n",
       "    <tr>\n",
       "      <th>4021</th>\n",
       "      <td>2</td>\n",
       "      <td>1</td>\n",
       "      <td>1</td>\n",
       "      <td>0</td>\n",
       "      <td>1</td>\n",
       "      <td>0</td>\n",
       "      <td>2</td>\n",
       "      <td>1</td>\n",
       "      <td>1</td>\n",
       "      <td>0</td>\n",
       "      <td>68</td>\n",
       "      <td>22</td>\n",
       "      <td>11</td>\n",
       "      <td>3</td>\n",
       "      <td>69</td>\n",
       "    </tr>\n",
       "    <tr>\n",
       "      <th>4022</th>\n",
       "      <td>0</td>\n",
       "      <td>0</td>\n",
       "      <td>1</td>\n",
       "      <td>0</td>\n",
       "      <td>1</td>\n",
       "      <td>0</td>\n",
       "      <td>2</td>\n",
       "      <td>1</td>\n",
       "      <td>1</td>\n",
       "      <td>1</td>\n",
       "      <td>58</td>\n",
       "      <td>44</td>\n",
       "      <td>11</td>\n",
       "      <td>1</td>\n",
       "      <td>72</td>\n",
       "    </tr>\n",
       "    <tr>\n",
       "      <th>4023</th>\n",
       "      <td>2</td>\n",
       "      <td>1</td>\n",
       "      <td>1</td>\n",
       "      <td>0</td>\n",
       "      <td>1</td>\n",
       "      <td>0</td>\n",
       "      <td>2</td>\n",
       "      <td>1</td>\n",
       "      <td>1</td>\n",
       "      <td>1</td>\n",
       "      <td>46</td>\n",
       "      <td>30</td>\n",
       "      <td>7</td>\n",
       "      <td>2</td>\n",
       "      <td>100</td>\n",
       "    </tr>\n",
       "  </tbody>\n",
       "</table>\n",
       "<p>4024 rows × 15 columns</p>\n",
       "</div>"
      ],
      "text/plain": [
       "      Race  Marital Status  T Stage   N Stage  6th Stage  differentiate  \\\n",
       "0        2               1         0        0          0              1   \n",
       "1        2               1         1        1          2              0   \n",
       "2        2               0         2        2          4              0   \n",
       "3        2               1         0        0          0              1   \n",
       "4        2               1         1        0          1              1   \n",
       "...    ...             ...       ...      ...        ...            ...   \n",
       "4019     1               1         0        0          0              0   \n",
       "4020     2               0         1        1          2              0   \n",
       "4021     2               1         1        0          1              0   \n",
       "4022     0               0         1        0          1              0   \n",
       "4023     2               1         1        0          1              0   \n",
       "\n",
       "      Grade  A Stage  Estrogen Status  Progesterone Status  Age  Tumor Size  \\\n",
       "0         3        1                1                    1   68           4   \n",
       "1         2        1                1                    1   50          35   \n",
       "2         2        1                1                    1   58          63   \n",
       "3         3        1                1                    1   58          18   \n",
       "4         3        1                1                    1   47          41   \n",
       "...     ...      ...              ...                  ...  ...         ...   \n",
       "4019      2        1                1                    1   62           9   \n",
       "4020      2        1                1                    1   56          46   \n",
       "4021      2        1                1                    0   68          22   \n",
       "4022      2        1                1                    1   58          44   \n",
       "4023      2        1                1                    1   46          30   \n",
       "\n",
       "      Regional Node Examined  Reginol Node Positive  Survival Months  \n",
       "0                         24                      1               60  \n",
       "1                         14                      5               62  \n",
       "2                         14                      7               75  \n",
       "3                          2                      1               84  \n",
       "4                          3                      1               50  \n",
       "...                      ...                    ...              ...  \n",
       "4019                       1                      1               49  \n",
       "4020                      14                      8               69  \n",
       "4021                      11                      3               69  \n",
       "4022                      11                      1               72  \n",
       "4023                       7                      2              100  \n",
       "\n",
       "[4024 rows x 15 columns]"
      ]
     },
     "execution_count": 27,
     "metadata": {},
     "output_type": "execute_result"
    }
   ],
   "source": [
    "x"
   ]
  },
  {
   "cell_type": "code",
   "execution_count": 28,
   "id": "6b2aa3ca",
   "metadata": {
    "execution": {
     "iopub.execute_input": "2025-04-02T08:30:33.388106Z",
     "iopub.status.busy": "2025-04-02T08:30:33.387671Z",
     "iopub.status.idle": "2025-04-02T08:30:33.398519Z",
     "shell.execute_reply": "2025-04-02T08:30:33.397236Z"
    },
    "papermill": {
     "duration": 0.035671,
     "end_time": "2025-04-02T08:30:33.401082",
     "exception": false,
     "start_time": "2025-04-02T08:30:33.365411",
     "status": "completed"
    },
    "tags": []
   },
   "outputs": [
    {
     "data": {
      "text/plain": [
       "0       0\n",
       "1       0\n",
       "2       0\n",
       "3       0\n",
       "4       0\n",
       "       ..\n",
       "4019    0\n",
       "4020    0\n",
       "4021    0\n",
       "4022    0\n",
       "4023    0\n",
       "Name: Status, Length: 4024, dtype: int64"
      ]
     },
     "execution_count": 28,
     "metadata": {},
     "output_type": "execute_result"
    }
   ],
   "source": [
    "y"
   ]
  },
  {
   "cell_type": "markdown",
   "id": "5303f4cb",
   "metadata": {
    "papermill": {
     "duration": 0.018739,
     "end_time": "2025-04-02T08:30:33.441984",
     "exception": false,
     "start_time": "2025-04-02T08:30:33.423245",
     "status": "completed"
    },
    "tags": []
   },
   "source": [
    "Over Sampling"
   ]
  },
  {
   "cell_type": "code",
   "execution_count": 29,
   "id": "d98eb767",
   "metadata": {
    "execution": {
     "iopub.execute_input": "2025-04-02T08:30:33.483788Z",
     "iopub.status.busy": "2025-04-02T08:30:33.482630Z",
     "iopub.status.idle": "2025-04-02T08:30:33.497292Z",
     "shell.execute_reply": "2025-04-02T08:30:33.496255Z"
    },
    "papermill": {
     "duration": 0.03933,
     "end_time": "2025-04-02T08:30:33.500900",
     "exception": false,
     "start_time": "2025-04-02T08:30:33.461570",
     "status": "completed"
    },
    "tags": []
   },
   "outputs": [],
   "source": [
    "RS=RandomOverSampler(random_state=42)\n",
    "x_rs,y_rs=RS.fit_resample(x,y)"
   ]
  },
  {
   "cell_type": "code",
   "execution_count": 30,
   "id": "fc34a6e4",
   "metadata": {
    "execution": {
     "iopub.execute_input": "2025-04-02T08:30:33.616262Z",
     "iopub.status.busy": "2025-04-02T08:30:33.615886Z",
     "iopub.status.idle": "2025-04-02T08:30:33.625494Z",
     "shell.execute_reply": "2025-04-02T08:30:33.624430Z"
    },
    "papermill": {
     "duration": 0.097792,
     "end_time": "2025-04-02T08:30:33.627958",
     "exception": false,
     "start_time": "2025-04-02T08:30:33.530166",
     "status": "completed"
    },
    "tags": []
   },
   "outputs": [],
   "source": [
    "x_train, x_test, y_train, y_test = train_test_split(x_rs,y_rs, test_size=0.2, random_state=42)"
   ]
  },
  {
   "cell_type": "code",
   "execution_count": 31,
   "id": "188f9d5c",
   "metadata": {
    "execution": {
     "iopub.execute_input": "2025-04-02T08:30:33.667103Z",
     "iopub.status.busy": "2025-04-02T08:30:33.666667Z",
     "iopub.status.idle": "2025-04-02T08:30:33.672357Z",
     "shell.execute_reply": "2025-04-02T08:30:33.671055Z"
    },
    "papermill": {
     "duration": 0.02864,
     "end_time": "2025-04-02T08:30:33.675543",
     "exception": false,
     "start_time": "2025-04-02T08:30:33.646903",
     "status": "completed"
    },
    "tags": []
   },
   "outputs": [],
   "source": [
    "Model_LR=LogisticRegression()\n",
    "Model_RF=RandomForestClassifier()\n",
    "Model_SVC=SVC()\n",
    "Model_XGB=XGBClassifier()\n",
    "Model_GBoosting=GradientBoostingClassifier()"
   ]
  },
  {
   "cell_type": "code",
   "execution_count": 32,
   "id": "e3e24bb3",
   "metadata": {
    "execution": {
     "iopub.execute_input": "2025-04-02T08:30:33.716502Z",
     "iopub.status.busy": "2025-04-02T08:30:33.716060Z",
     "iopub.status.idle": "2025-04-02T08:30:33.723264Z",
     "shell.execute_reply": "2025-04-02T08:30:33.721806Z"
    },
    "papermill": {
     "duration": 0.030994,
     "end_time": "2025-04-02T08:30:33.725963",
     "exception": false,
     "start_time": "2025-04-02T08:30:33.694969",
     "status": "completed"
    },
    "tags": []
   },
   "outputs": [],
   "source": [
    "def predictt(model):\n",
    "    model.fit(x_train,y_train)\n",
    "    model.predict(x_test)\n",
    "    print(classification_report(model.predict(x_test),y_test))"
   ]
  },
  {
   "cell_type": "code",
   "execution_count": 33,
   "id": "b43ebf24",
   "metadata": {
    "execution": {
     "iopub.execute_input": "2025-04-02T08:30:33.765864Z",
     "iopub.status.busy": "2025-04-02T08:30:33.765414Z",
     "iopub.status.idle": "2025-04-02T08:30:33.886283Z",
     "shell.execute_reply": "2025-04-02T08:30:33.884180Z"
    },
    "papermill": {
     "duration": 0.144559,
     "end_time": "2025-04-02T08:30:33.889498",
     "exception": false,
     "start_time": "2025-04-02T08:30:33.744939",
     "status": "completed"
    },
    "tags": []
   },
   "outputs": [
    {
     "name": "stdout",
     "output_type": "stream",
     "text": [
      "              precision    recall  f1-score   support\n",
      "\n",
      "           0       0.83      0.77      0.80       730\n",
      "           1       0.76      0.82      0.79       634\n",
      "\n",
      "    accuracy                           0.80      1364\n",
      "   macro avg       0.80      0.80      0.80      1364\n",
      "weighted avg       0.80      0.80      0.80      1364\n",
      "\n"
     ]
    }
   ],
   "source": [
    "predictt(Model_LR)"
   ]
  },
  {
   "cell_type": "code",
   "execution_count": 34,
   "id": "129bc0d8",
   "metadata": {
    "execution": {
     "iopub.execute_input": "2025-04-02T08:30:33.966003Z",
     "iopub.status.busy": "2025-04-02T08:30:33.965163Z",
     "iopub.status.idle": "2025-04-02T08:30:34.606217Z",
     "shell.execute_reply": "2025-04-02T08:30:34.605013Z"
    },
    "papermill": {
     "duration": 0.681845,
     "end_time": "2025-04-02T08:30:34.608697",
     "exception": false,
     "start_time": "2025-04-02T08:30:33.926852",
     "status": "completed"
    },
    "tags": []
   },
   "outputs": [
    {
     "name": "stdout",
     "output_type": "stream",
     "text": [
      "              precision    recall  f1-score   support\n",
      "\n",
      "           0       0.95      1.00      0.97       645\n",
      "           1       1.00      0.95      0.97       719\n",
      "\n",
      "    accuracy                           0.97      1364\n",
      "   macro avg       0.97      0.97      0.97      1364\n",
      "weighted avg       0.97      0.97      0.97      1364\n",
      "\n"
     ]
    }
   ],
   "source": [
    "predictt(Model_RF)"
   ]
  },
  {
   "cell_type": "code",
   "execution_count": 35,
   "id": "5731bb88",
   "metadata": {
    "execution": {
     "iopub.execute_input": "2025-04-02T08:30:34.648953Z",
     "iopub.status.busy": "2025-04-02T08:30:34.648577Z",
     "iopub.status.idle": "2025-04-02T08:30:36.021511Z",
     "shell.execute_reply": "2025-04-02T08:30:36.020238Z"
    },
    "papermill": {
     "duration": 1.395983,
     "end_time": "2025-04-02T08:30:36.024173",
     "exception": false,
     "start_time": "2025-04-02T08:30:34.628190",
     "status": "completed"
    },
    "tags": []
   },
   "outputs": [
    {
     "name": "stdout",
     "output_type": "stream",
     "text": [
      "              precision    recall  f1-score   support\n",
      "\n",
      "           0       0.86      0.76      0.81       768\n",
      "           1       0.73      0.84      0.78       596\n",
      "\n",
      "    accuracy                           0.80      1364\n",
      "   macro avg       0.80      0.80      0.80      1364\n",
      "weighted avg       0.81      0.80      0.80      1364\n",
      "\n"
     ]
    }
   ],
   "source": [
    "predictt(Model_SVC)"
   ]
  },
  {
   "cell_type": "code",
   "execution_count": 36,
   "id": "40809e5c",
   "metadata": {
    "execution": {
     "iopub.execute_input": "2025-04-02T08:30:36.064108Z",
     "iopub.status.busy": "2025-04-02T08:30:36.063696Z",
     "iopub.status.idle": "2025-04-02T08:30:36.261761Z",
     "shell.execute_reply": "2025-04-02T08:30:36.260313Z"
    },
    "papermill": {
     "duration": 0.220976,
     "end_time": "2025-04-02T08:30:36.264121",
     "exception": false,
     "start_time": "2025-04-02T08:30:36.043145",
     "status": "completed"
    },
    "tags": []
   },
   "outputs": [
    {
     "name": "stdout",
     "output_type": "stream",
     "text": [
      "              precision    recall  f1-score   support\n",
      "\n",
      "           0       0.93      1.00      0.96       632\n",
      "           1       1.00      0.93      0.96       732\n",
      "\n",
      "    accuracy                           0.96      1364\n",
      "   macro avg       0.96      0.96      0.96      1364\n",
      "weighted avg       0.96      0.96      0.96      1364\n",
      "\n"
     ]
    }
   ],
   "source": [
    "predictt(Model_XGB)"
   ]
  },
  {
   "cell_type": "code",
   "execution_count": 37,
   "id": "4cc8ecc5",
   "metadata": {
    "execution": {
     "iopub.execute_input": "2025-04-02T08:30:36.304546Z",
     "iopub.status.busy": "2025-04-02T08:30:36.304125Z",
     "iopub.status.idle": "2025-04-02T08:30:36.986642Z",
     "shell.execute_reply": "2025-04-02T08:30:36.985379Z"
    },
    "papermill": {
     "duration": 0.704894,
     "end_time": "2025-04-02T08:30:36.988867",
     "exception": false,
     "start_time": "2025-04-02T08:30:36.283973",
     "status": "completed"
    },
    "tags": []
   },
   "outputs": [
    {
     "name": "stdout",
     "output_type": "stream",
     "text": [
      "              precision    recall  f1-score   support\n",
      "\n",
      "           0       0.87      0.82      0.84       725\n",
      "           1       0.80      0.86      0.83       639\n",
      "\n",
      "    accuracy                           0.84      1364\n",
      "   macro avg       0.84      0.84      0.84      1364\n",
      "weighted avg       0.84      0.84      0.84      1364\n",
      "\n"
     ]
    }
   ],
   "source": [
    "predictt(Model_GBoosting)"
   ]
  },
  {
   "cell_type": "code",
   "execution_count": null,
   "id": "97f2ba84",
   "metadata": {
    "papermill": {
     "duration": 0.01885,
     "end_time": "2025-04-02T08:30:37.027840",
     "exception": false,
     "start_time": "2025-04-02T08:30:37.008990",
     "status": "completed"
    },
    "tags": []
   },
   "outputs": [],
   "source": []
  }
 ],
 "metadata": {
  "kaggle": {
   "accelerator": "none",
   "dataSources": [
    {
     "datasetId": 2396275,
     "sourceId": 4045493,
     "sourceType": "datasetVersion"
    }
   ],
   "dockerImageVersionId": 30761,
   "isGpuEnabled": false,
   "isInternetEnabled": false,
   "language": "python",
   "sourceType": "notebook"
  },
  "kernelspec": {
   "display_name": "Python 3",
   "language": "python",
   "name": "python3"
  },
  "language_info": {
   "codemirror_mode": {
    "name": "ipython",
    "version": 3
   },
   "file_extension": ".py",
   "mimetype": "text/x-python",
   "name": "python",
   "nbconvert_exporter": "python",
   "pygments_lexer": "ipython3",
   "version": "3.10.14"
  },
  "papermill": {
   "default_parameters": {},
   "duration": 18.763462,
   "end_time": "2025-04-02T08:30:37.868922",
   "environment_variables": {},
   "exception": null,
   "input_path": "__notebook__.ipynb",
   "output_path": "__notebook__.ipynb",
   "parameters": {},
   "start_time": "2025-04-02T08:30:19.105460",
   "version": "2.6.0"
  }
 },
 "nbformat": 4,
 "nbformat_minor": 5
}
